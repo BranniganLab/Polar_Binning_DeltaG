{
 "cells": [
  {
   "cell_type": "code",
   "execution_count": null,
   "metadata": {},
   "outputs": [],
   "source": [
    "import numpy as np\n",
    "import pandas as pd\n",
    "from pathlib import Path\n",
    "import matplotlib.pyplot as plt\n",
    "import matplotlib.gridspec as gridspec\n",
    "from matplotlib.colors import LogNorm\n",
    "from matplotlib.ticker import LogFormatterExponent\n",
    "from DTA.enrichment_plotters import polar_plot, get_file_list, get_helices, read_rep\n",
    "from DTA.polarDensity_helper import Coord_Get, get_header_info\n",
    "from DTA.site_distributions import outline_site, make_symmetric_sites, combine_sites, plot_density, Site, plot_bulk_counts\n",
    "plt.rcParams['axes.grid'] = False "
   ]
  },
  {
   "cell_type": "code",
   "execution_count": null,
   "metadata": {},
   "outputs": [],
   "source": [
    "# Enrichment plot colormap\n",
    "from matplotlib.colors import ListedColormap\n",
    "depleted = plt.cm.get_cmap('RdGy_r', 256)\n",
    "enriched = plt.cm.get_cmap('bwr', 256)\n",
    "newcolors = np.concatenate([depleted(np.linspace(0.35, 0.5, 128)), enriched(np.linspace(0.5,1,128))])\n",
    "my_cmap = ListedColormap(newcolors)"
   ]
  },
  {
   "cell_type": "markdown",
   "metadata": {},
   "source": [
    "# Read and plot the distribution\n",
    "In VMD:\n",
    "1. load the trajectory of the empty membrane\n",
    "2. modify do_get_counts.tcl to have the total area of the site\n",
    "3. source do_get_counts.tcl\n",
    "4. It will save to a file called counts_[area].out\n",
    "5. Provide the path here:"
   ]
  },
  {
   "cell_type": "code",
   "execution_count": null,
   "metadata": {},
   "outputs": [],
   "source": [
    "area = 50\n",
    "root = Path(f\"../accessible_area/\")\n",
    "bulk_counts_path = root.joinpath(f\"POPG_counts_{area}.dat\")\n",
    "bulk_counts = np.loadtxt(bulk_counts_path)\n",
    "\n",
    "frequencies = np.bincount(bulk_counts.astype(int).flatten())\n",
    "probabilities = frequencies/np.sum(frequencies)\n",
    "fig, ax = plt.subplots()\n",
    "ax.plot(range(len(probabilities)), probabilities)\n",
    "ax.set_ylabel(\"Probability\")\n",
    "ax.set_xlabel(f\"Number of beads in an area about {area} \"+r\"$\\AA^2$\")\n",
    "bulk_mode = np.argmax(probabilities)\n",
    "ax.vlines([bulk_mode], 0, np.max(probabilities), color = 'black', linestyles='dashed', label = f\"mode={bulk_mode}\")\n",
    "ax.legend()"
   ]
  },
  {
   "cell_type": "code",
   "execution_count": null,
   "metadata": {},
   "outputs": [],
   "source": [
    "probabilities[0]"
   ]
  },
  {
   "cell_type": "code",
   "execution_count": null,
   "metadata": {},
   "outputs": [],
   "source": [
    "\n",
    "fig, axes = plt.subplots(2, 1, figsize=(3,6), sharex=True, sharey=True)\n",
    "\n",
    "area = 50\n",
    "#root = Path(f\"/Users/ezry/Projects/Polar_Binning_DeltaG/accessible_area/\")\n",
    "bulk_counts_path = root.joinpath(f\"POPG_counts_{area}.dat\")\n",
    "bulk_counts = np.loadtxt(bulk_counts_path)\n",
    "frequencies = np.bincount(bulk_counts.astype(int).flatten())\n",
    "probabilities_cheng = frequencies/np.sum(frequencies)\n",
    "axes[0] = plot_bulk_counts(axes[0], bulk_counts, area, lw=4)\n",
    "axes[0].set_xlabel(None)\n",
    "axes[0].set_ylabel(\"P(n) Site 1\")\n",
    "\n",
    "area = 96\n",
    "bulk_counts_path = root.joinpath(f\"POPG_counts_{area}.dat\")\n",
    "bulk_counts = np.loadtxt(bulk_counts_path)\n",
    "frequencies = np.bincount(bulk_counts.astype(int).flatten())\n",
    "probabilities_ulens = frequencies/np.sum(frequencies)\n",
    "axes[1] = plot_bulk_counts(axes[1], bulk_counts, area, lw=4)\n",
    "axes[1].set_xlabel(\"n\")\n",
    "axes[1].set_ylabel(\"P(n) Site 2\")\n",
    "\n",
    "fig.subplots_adjust(left=0.2)\n",
    "plt.savefig(f\"POPG_bulk_distribution_combo.pdf\")"
   ]
  },
  {
   "cell_type": "code",
   "execution_count": null,
   "metadata": {},
   "outputs": [],
   "source": [
    "np.sum(probabilities_ulens[12:])"
   ]
  },
  {
   "cell_type": "code",
   "execution_count": null,
   "metadata": {},
   "outputs": [],
   "source": [
    "np.sum(probabilities_cheng[12:])"
   ]
  },
  {
   "cell_type": "code",
   "execution_count": null,
   "metadata": {},
   "outputs": [],
   "source": []
  },
  {
   "cell_type": "markdown",
   "metadata": {},
   "source": [
    "# Get Site Distributions"
   ]
  },
  {
   "cell_type": "code",
   "execution_count": null,
   "metadata": {},
   "outputs": [],
   "source": [
    "import numpy as np\n",
    "import matplotlib.pyplot as plt\n",
    "from pathlib import Path\n",
    "import pandas as pd\n",
    "from DTA.polarDensity_helper import Coord_Get, get_header_info\n",
    "from DTA.site_distributions import make_simple_site, combine_sites, plot_density, make_symmetric_sites"
   ]
  },
  {
   "cell_type": "code",
   "execution_count": null,
   "metadata": {},
   "outputs": [],
   "source": [
    "root = Path(\"/Users/ezry/Projects/ELIC_PE_PG/aggregated\")\n",
    "replicas = [\"liam\", \"rep1\", \"rep3\"]\n",
    "lipid = \"POPG\""
   ]
  },
  {
   "cell_type": "code",
   "execution_count": null,
   "metadata": {},
   "outputs": [],
   "source": [
    "leaf = \"upp\"\n",
    "MB =11\n",
    "AB = 0\n",
    "EB = 2\n",
    "fig, axes = plt.subplots(3,5, figsize=(15,10), sharex=True, sharey=True)\n",
    "axis = 0\n",
    "p_occ = pd.DataFrame(columns=[\"AB\", \"MB\", \"EB\"], index=np.arange(0,14))\n",
    "for rep in replicas:\n",
    "    data_root = root.joinpath(rep)\n",
    "    fpath = data_root.joinpath(f\"{lipid}.dat.{leaf}.dat\")\n",
    "\n",
    "    num_mol,avg_A,beads,exrho,avg_chain = get_header_info(fpath)\n",
    "    the_data = np.loadtxt(fpath, skiprows=1)\n",
    "    rad, dr, dth, theta, radius, frames, Ntheta = Coord_Get(fpath)\n",
    "\n",
    "    try:\n",
    "        cheng_sites = make_symmetric_sites(the_data, 4, 3, 24, 30, Ntheta, dr, dth, exrho, frames, sitename=\"Cheng Site \")\n",
    "    except:\n",
    "        print(f\"Error on rep {rep}\")\n",
    "    #cheng_site_symmetric = combine_sites(cheng_sites, exrho, \"Cheng Sites, Symmetric\", symmetric=True)\n",
    "    #cheng_sites.append(cheng_site_symmetric)\n",
    "    for site in cheng_sites:\n",
    "        site.Npeak = 0\n",
    "        site.expPunocc = 0.302\n",
    "\n",
    "    for site, ax, idx in zip(cheng_sites, axes.flatten()[axis:], np.arange(0,5)):\n",
    "        p_occ.at[idx+axis, \"AB\"] = np.sum(site.densities[AB+1:])\n",
    "        p_occ.at[idx+axis, \"MB\"] = np.sum(site.densities[MB+1:])\n",
    "        p_occ.at[idx+axis, \"EB\"] = np.sum(site.densities[EB+1:])\n",
    "        ax = plot_density(site, ax)\n",
    "\n",
    "    axis+=len(cheng_sites)\n",
    " \n",
    "fig.tight_layout()\n",
    "plt.savefig(data_root.joinpath(f\"Cheng_sites.pdf\"))"
   ]
  },
  {
   "cell_type": "code",
   "execution_count": null,
   "metadata": {},
   "outputs": [],
   "source": [
    "np.average(p_occ, axis=0)"
   ]
  },
  {
   "cell_type": "code",
   "execution_count": null,
   "metadata": {},
   "outputs": [],
   "source": [
    "np.std(p_occ, axis=0)/np.sqrt(15)"
   ]
  },
  {
   "cell_type": "code",
   "execution_count": null,
   "metadata": {},
   "outputs": [],
   "source": [
    "leaf = \"upp\"\n",
    "lipid=\"POPG\"\n",
    "fig, ax = plt.subplots(1,1, figsize=(5,5))\n",
    "for rep in replicas:\n",
    "    data_root = root.joinpath(rep)\n",
    "    fpath = data_root.joinpath(f\"{lipid}.dat.{leaf}.dat\")\n",
    "\n",
    "    num_mol,avg_A,beads,exrho,avg_chain = get_header_info(fpath)\n",
    "    the_data = np.loadtxt(fpath, skiprows=1)\n",
    "    rad, dr, dth, theta, radius, frames, Ntheta = Coord_Get(fpath)\n",
    "\n",
    "    cheng_sites = make_symmetric_sites(the_data, 4, 3, 24, 30, Ntheta, dr, dth, exrho, frames, sitename=\"Cheng Site \")\n",
    "    #cheng_site_symmetric = combine_sites(cheng_sites, exrho, \"Cheng Sites, Symmetric\", symmetric=True)\n",
    "    #cheng_sites.append(cheng_site_symmetric)\n",
    "    for site in cheng_sites:\n",
    "        site.Npeak = 0\n",
    "        site.expPunocc = 0.302\n",
    "\n",
    "    dummy_site = cheng_sites[0]\n",
    "    dummy_site.title=f\"average over sites, {lipid}, {leaf}er leaflet, Cheng site\"\n",
    "    temp = [site.densities for site in cheng_sites]\n",
    "    densities = [np.pad(dens, (0,18-len(dens))) for dens in temp]\n",
    "    dummy_site.densities = np.average(densities, axis=0)\n",
    "\n",
    "    ax = plot_density(dummy_site, ax)\n",
    "\n",
    "plt.savefig(root.joinpath(f\"Cheng_sites_averaged_{lipid}.pdf\"))"
   ]
  },
  {
   "cell_type": "code",
   "execution_count": null,
   "metadata": {},
   "outputs": [],
   "source": []
  },
  {
   "cell_type": "code",
   "execution_count": null,
   "metadata": {},
   "outputs": [],
   "source": []
  },
  {
   "cell_type": "code",
   "execution_count": null,
   "metadata": {},
   "outputs": [],
   "source": [
    "leaf = \"low\"\n",
    "MB =11\n",
    "AB = 0\n",
    "EB = 0\n",
    "fig, axes = plt.subplots(3,5, figsize=(15,10), sharex=True, sharey=True)\n",
    "axis = 0\n",
    "p_occ = pd.DataFrame(columns=[\"AB\", \"MB\", \"EB\"], index=np.arange(0,14))\n",
    "for rep in replicas:\n",
    "    data_root = root.joinpath(rep)\n",
    "    fpath = data_root.joinpath(f\"{lipid}.{leaf}.dat\")\n",
    "\n",
    "    num_mol,avg_A,beads,exrho,avg_chain = get_header_info(fpath)\n",
    "    the_data = np.loadtxt(fpath, skiprows=1)\n",
    "    rad, dr, dth, theta, radius, frames, Ntheta = Coord_Get(fpath)\n",
    "\n",
    "    try:\n",
    "        ulens_sites = make_symmetric_sites(the_data, 9, 4, 22, 32, Ntheta, dr, dth, exrho, frames, sitename=\"Ulens Site \")\n",
    "    except:\n",
    "        print(f\"Error on rep {rep}\")\n",
    "    #ulens_sites.append(ulens_site_symmetric)\n",
    "    for site in ulens_sites:\n",
    "        site.Npeak=0\n",
    "        site.expPunocc = 0.187\n",
    "\n",
    "    for site, ax, idx in zip(ulens_sites, axes.flatten()[axis:], np.arange(0,5)):\n",
    "        p_occ.at[idx+axis, \"AB\"] = np.sum(site.densities[AB+1:])\n",
    "        p_occ.at[idx+axis, \"MB\"] = np.sum(site.densities[MB+1:])\n",
    "        p_occ.at[idx+axis, \"EB\"] = np.sum(site.densities[EB+1:])\n",
    "        ax = plot_density(site, ax)\n",
    "\n",
    "    axis+=len(cheng_sites)\n",
    " \n",
    "fig.tight_layout()\n",
    "plt.savefig(data_root.joinpath(f\"Ulens_sites.pdf\"))"
   ]
  },
  {
   "cell_type": "code",
   "execution_count": null,
   "metadata": {},
   "outputs": [],
   "source": [
    "np.average(p_occ, axis=0)"
   ]
  },
  {
   "cell_type": "code",
   "execution_count": null,
   "metadata": {},
   "outputs": [],
   "source": [
    "np.std(p_occ, axis=0)/np.sqrt(15)"
   ]
  },
  {
   "cell_type": "code",
   "execution_count": null,
   "metadata": {},
   "outputs": [],
   "source": [
    "# leaf = \"low\"\n",
    "# lipid = \"POPG\"\n",
    "# for rep in replicas:\n",
    "#     data_root = root.joinpath(rep)\n",
    "#     fpath = data_root.joinpath(f\"{lipid}.dat.{leaf}.dat\")\n",
    "\n",
    "#     num_mol,avg_A,beads,exrho,avg_chain = get_header_info(fpath)\n",
    "#     the_data = np.loadtxt(fpath, skiprows=1)\n",
    "#     rad, dr, dth, theta, radius, frames, Ntheta = Coord_Get(fpath)\n",
    "\n",
    "#     ulens_sites = make_symmetric_sites(the_data, 9, 4, 22, 32, Ntheta, dr, dth, exrho, frames, sitename=\"Ulens Site \")\n",
    "#     #ulens_site_symmetric = combine_sites(ulens_sites, exrho, \"Ulens Sites, Symmetric\", symmetric=True)\n",
    "#     #ulens_sites.append(ulens_site_symmetric)\n",
    "#     for site in ulens_sites:\n",
    "#         site.Npeak=0\n",
    "#         site.expPunocc = 0.187\n",
    "\n",
    "#     fig, axes = plt.subplots(3,2, figsize=(15,15))\n",
    "#     for site, ax in zip(ulens_sites, axes.flatten()):\n",
    "#         ax = plot_density(site, ax)\n",
    "\n",
    "#     plt.savefig(data_root.joinpath(f\"Ulens_sites.pdf\"))"
   ]
  },
  {
   "cell_type": "code",
   "execution_count": null,
   "metadata": {},
   "outputs": [],
   "source": [
    "# leaf = \"low\"\n",
    "# for rep in replicas:\n",
    "#     data_root = root.joinpath(rep)\n",
    "#     fpath = data_root.joinpath(f\"{lipid}.dat.{leaf}.dat\")\n",
    "\n",
    "#     num_mol,avg_A,beads,exrho,avg_chain = get_header_info(fpath)\n",
    "#     the_data = np.loadtxt(fpath, skiprows=1)\n",
    "#     rad, dr, dth, theta, radius, frames, Ntheta = Coord_Get(fpath)\n",
    "\n",
    "#     ulens_sites = make_symmetric_sites(the_data, 9, 4, 22, 32, Ntheta, dr, dth, exrho, frames, sitename=\"Ulens Site \")\n",
    "#     ulens_sites.append(ulens_site_symmetric)\n",
    "#     for site in ulens_sites:\n",
    "#         site.Npeak=0\n",
    "#         site.expPunocc = 0.187\n",
    "\n",
    "#     dummy_site = ulens_sites[0]\n",
    "#     dummy_site.title=\"average over sites\"\n",
    "#     temp = [site.densities for site in ulens_sites]\n",
    "#     densities = [np.pad(dens, (0,50-len(dens))) for dens in temp]\n",
    "#     dummy_site.densities = np.average(densities, axis=0)\n",
    "\n",
    "#     fig, ax = plt.subplots(1,1, figsize=(10,10))\n",
    "#     ax = plot_density(dummy_site, ax)\n",
    "\n",
    "#     plt.savefig(data_root.joinpath(f\"Ulens_sites_averaged.pdf\"))"
   ]
  },
  {
   "cell_type": "code",
   "execution_count": null,
   "metadata": {},
   "outputs": [],
   "source": [
    "leaf = \"low\"\n",
    "lipid = \"POPG\"\n",
    "fig, ax = plt.subplots(1,1, figsize=(5,5))\n",
    "for rep in replicas:\n",
    "    data_root = root.joinpath(rep)\n",
    "    fpath = data_root.joinpath(f\"{lipid}.dat.{leaf}.dat\")\n",
    "\n",
    "    num_mol,avg_A,beads,exrho,avg_chain = get_header_info(fpath)\n",
    "    the_data = np.loadtxt(fpath, skiprows=1)\n",
    "    rad, dr, dth, theta, radius, frames, Ntheta = Coord_Get(fpath)\n",
    "\n",
    "    ulens_sites = make_symmetric_sites(the_data, 9, 4, 22, 32, Ntheta, dr, dth, exrho, frames, sitename=\"Ulens Site \")\n",
    "    #ulens_sites.append(ulens_site_symmetric)\n",
    "    for site in ulens_sites:\n",
    "        site.Npeak=0\n",
    "        site.expPunocc = 0.187\n",
    "\n",
    "    dummy_site = ulens_sites[0]\n",
    "    dummy_site.title=\"average over sites\"\n",
    "    temp = [site.densities for site in ulens_sites]\n",
    "    densities = [np.pad(dens, (0,30-len(dens))) for dens in temp]\n",
    "    dummy_site.densities = np.average(densities, axis=0)\n",
    "\n",
    "    ax = plot_density(dummy_site, ax)\n",
    "\n",
    "plt.savefig(root.joinpath(f\"Ulens_sites_averaged_{lipid}.pdf\"))"
   ]
  },
  {
   "cell_type": "code",
   "execution_count": null,
   "metadata": {},
   "outputs": [],
   "source": []
  }
 ],
 "metadata": {
  "kernelspec": {
   "display_name": "jupEnv",
   "language": "python",
   "name": "python3"
  },
  "language_info": {
   "codemirror_mode": {
    "name": "ipython",
    "version": 3
   },
   "file_extension": ".py",
   "mimetype": "text/x-python",
   "name": "python",
   "nbconvert_exporter": "python",
   "pygments_lexer": "ipython3",
   "version": "3.9.12"
  }
 },
 "nbformat": 4,
 "nbformat_minor": 2
}
