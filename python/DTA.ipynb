{
 "cells": [
  {
   "cell_type": "code",
   "execution_count": null,
   "metadata": {},
   "outputs": [],
   "source": [
    "import numpy as np\n",
    "import pandas as pd\n",
    "from pathlib import Path\n",
    "import matplotlib.pyplot as plt\n",
    "import matplotlib.gridspec as gridspec\n",
    "from matplotlib.colors import LogNorm\n",
    "from matplotlib.ticker import LogFormatterExponent\n",
    "from DTA.enrichment_plotters import polar_plot, get_file_list, get_helices, read_rep\n",
    "from DTA.polarDensity_helper import Coord_Get, get_header_info\n",
    "from DTA.site_distributions import outline_site, make_symmetric_sites, combine_sites, plot_density, Site\n",
    "plt.rcParams['axes.grid'] = False "
   ]
  },
  {
   "cell_type": "code",
   "execution_count": null,
   "metadata": {},
   "outputs": [],
   "source": [
    "# Enrichment plot colormap\n",
    "from matplotlib.colors import ListedColormap\n",
    "depleted = plt.cm.get_cmap('RdGy_r', 256)\n",
    "enriched = plt.cm.get_cmap('bwr', 256)\n",
    "newcolors = np.concatenate([depleted(np.linspace(0.35, 0.5, 128)), enriched(np.linspace(0.5,1,128))])\n",
    "my_cmap = ListedColormap(newcolors)"
   ]
  },
  {
   "cell_type": "markdown",
   "metadata": {},
   "source": [
    "# Read and plot the distribution\n",
    "In VMD:\n",
    "1. load the trajectory of the empty membrane\n",
    "2. modify do_get_counts.tcl to have the total area of the site\n",
    "3. source do_get_counts.tcl\n",
    "4. It will save to a file called counts_[area].out\n",
    "5. Provide the path here:"
   ]
  },
  {
   "cell_type": "code",
   "execution_count": null,
   "metadata": {},
   "outputs": [],
   "source": [
    "area = 96\n",
    "root = Path(f\"../accessible_area/\")\n",
    "bulk_counts_path = root.joinpath(f\"POPG_counts_{area}.dat\")\n",
    "bulk_counts = np.loadtxt(bulk_counts_path)\n",
    "\n",
    "frequencies = np.bincount(bulk_counts.astype(int).flatten())\n",
    "probabilities = frequencies/np.sum(frequencies)\n",
    "fig, ax = plt.subplots()\n",
    "ax.plot(range(len(probabilities)), probabilities)\n",
    "ax.set_ylabel(\"Probability\")\n",
    "ax.set_xlabel(f\"Number of beads in an area about {area} \"+r\"$\\AA^2$\")\n",
    "bulk_mode = np.argmax(probabilities)\n",
    "ax.vlines([bulk_mode], 0, np.max(probabilities), color = 'black', linestyles='dashed', label = f\"mode={bulk_mode}\")\n",
    "ax.legend()"
   ]
  },
  {
   "cell_type": "code",
   "execution_count": null,
   "metadata": {},
   "outputs": [],
   "source": [
    "probabilities[0]"
   ]
  },
  {
   "cell_type": "code",
   "execution_count": null,
   "metadata": {},
   "outputs": [],
   "source": [
    "\n",
    "fig, axes = plt.subplots(2, 1, figsize=(3,6), sharex=True, sharey=True)\n",
    "\n",
    "area = 47.5\n",
    "root = Path(f\"/home/ems363/Projects/MIE_paper/ELIC_Data/npeak_data/\")\n",
    "#root = Path(f\"/Users/ezry/Projects/Polar_Binning_DeltaG/accessible_area/\")\n",
    "bulk_counts_path = root.joinpath(f\"POPG_counts_{area}.out\")\n",
    "bulk_counts = np.loadtxt(bulk_counts_path)\n",
    "frequencies = np.bincount(bulk_counts.astype(int).flatten())\n",
    "probabilities_cheng = frequencies/np.sum(frequencies)\n",
    "axes[0] = plot_bulk_counts(bulk_counts, axes[0])\n",
    "axes[0].set_xlabel(None)\n",
    "axes[0].set_ylabel(\"P(n) Site 1\")\n",
    "\n",
    "\n",
    "area = 81\n",
    "bulk_counts_path = root.joinpath(f\"POPG_counts_{area}.out\")\n",
    "bulk_counts = np.loadtxt(bulk_counts_path)\n",
    "frequencies = np.bincount(bulk_counts.astype(int).flatten())\n",
    "probabilities_ulens = frequencies/np.sum(frequencies)\n",
    "axes[1] = plot_bulk_counts(bulk_counts, axes[1])\n",
    "axes[1].set_xlabel(\"n\")\n",
    "axes[1].set_ylabel(\"P(n) Site 2\")\n",
    "# heights, edges = np.histogram(np.mean(bulk_counts, axis=1))\n",
    "# centers = edges[:-1] + np.average(edges[0:1]) - edges[0]\n",
    "# heights = heights/np.sum(heights)\n",
    "# axes[1].plot(centers, heights)\n",
    "\n",
    "fig.subplots_adjust(left=0.2)\n",
    "plt.savefig(f\"POPG_bulk_distribution_combo.pdf\")"
   ]
  },
  {
   "cell_type": "code",
   "execution_count": null,
   "metadata": {},
   "outputs": [],
   "source": [
    "np.sum(probabilities_ulens[12:])"
   ]
  },
  {
   "cell_type": "code",
   "execution_count": null,
   "metadata": {},
   "outputs": [],
   "source": [
    "np.sum(probabilities_cheng[12:])"
   ]
  },
  {
   "cell_type": "code",
   "execution_count": null,
   "metadata": {},
   "outputs": [],
   "source": [
    "area = 112\n",
    "root = Path(f\"/home/ems363/Projects/Polar_Binning_DeltaG/accessible_area/\")\n",
    "bulk_counts_path = root.joinpath(f\"POPE_counts_{area}.out\")\n",
    "print(bulk_counts_path)\n",
    "\n",
    "bulk_counts = np.loadtxt(bulk_counts_path)\n",
    "\n",
    "fig, ax = plt.subplots()\n",
    "ax = plot_bulk_counts(bulk_counts, ax)\n",
    "plt.savefig(\"POPE_bulk_distribution_50frms.pdf\")"
   ]
  },
  {
   "cell_type": "code",
   "execution_count": null,
   "metadata": {},
   "outputs": [],
   "source": []
  }
 ],
 "metadata": {
  "kernelspec": {
   "display_name": "jupEnv",
   "language": "python",
   "name": "python3"
  },
  "language_info": {
   "codemirror_mode": {
    "name": "ipython",
    "version": 3
   },
   "file_extension": ".py",
   "mimetype": "text/x-python",
   "name": "python",
   "nbconvert_exporter": "python",
   "pygments_lexer": "ipython3",
   "version": "3.9.12"
  }
 },
 "nbformat": 4,
 "nbformat_minor": 2
}
