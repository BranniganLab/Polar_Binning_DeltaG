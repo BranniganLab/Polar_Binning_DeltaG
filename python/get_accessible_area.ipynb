{
 "cells": [
  {
   "cell_type": "code",
   "execution_count": null,
   "metadata": {},
   "outputs": [],
   "source": [
    "import numpy as np\n",
    "import matplotlib.pyplot as plt\n",
    "from pathlib import Path\n",
    "from polarDensity_helper import Coord_Get, get_header_info\n",
    "from site_distributions import make_simple_site, combine_sites, plot_density"
   ]
  },
  {
   "cell_type": "markdown",
   "metadata": {},
   "source": [
    "# Step 0: define a site\n",
    "\n",
    "This is done with the plotting_show_binID notebook.\n",
    "Some examples from ELIC:"
   ]
  },
  {
   "cell_type": "code",
   "execution_count": null,
   "metadata": {},
   "outputs": [],
   "source": [
    "lipid = \"DPPC\"\n",
    "leaf = \"upp\"\n",
    "data_root = Path(\"/Users/ezry/Projects/ELIC_DPPC/elicPE17_DPPC\")\n",
    "fpath = data_root.joinpath(f\"{lipid}.dat.{leaf}.dat\")"
   ]
  },
  {
   "cell_type": "code",
   "execution_count": null,
   "metadata": {},
   "outputs": [],
   "source": [
    "num_mol,avg_A,beads,exrho,avg_chain = get_header_info(fpath)\n",
    "the_data = np.loadtxt(fpath, skiprows=1)\n",
    "rad, dr, dth, theta, radius, frames, Ntheta = Coord_Get(fpath)"
   ]
  },
  {
   "cell_type": "code",
   "execution_count": null,
   "metadata": {},
   "outputs": [],
   "source": [
    "# onebin = make_simple_site(the_data, 25, 30, 1, Ntheta, dr, dth, exrho, frames, [29], f\"M4 site, one bin\")\n",
    "# onebin_symmetric = make_simple_site(the_data, 25, 30, 1, Ntheta, dr, dth, exrho, frames, np.arange(5,30,6), \"M4 site, one bin, symmetric sites\")\n",
    "# fourbins = make_simple_site(the_data, 25, 35, 2, Ntheta, dr, dth, exrho, frames, np.arange(28,30,1), \"M4 site, four bins\")\n",
    "\n",
    "# symmetricA = make_simple_site(the_data, 25, 35, 1, Ntheta, dr, dth, exrho, frames, np.arange(5,30,6), \"M4 site, four bins\")\n",
    "# symmetricB = make_simple_site(the_data, 25, 35, 1, Ntheta, dr, dth, exrho, frames, np.arange(4,30,6), \"M4 site, four bins\")\n",
    "# fourbins_symmetric = combine_sites([symmetricA, symmetricB], exrho, \"Four bins, symmetric\")\n",
    "\n",
    "extrabin = make_simple_site(the_data, 20, 25, 1, Ntheta, dr, dth, exrho, frames, [28])\n",
    "fivebins = combine_sites([extrabin, fourbins], exrho, \"Five bins\")\n",
    "\n",
    "# symmetricextra = make_simple_site(the_data, 20, 25, 1, Ntheta, dr, dth, exrho, frames, np.arange(4,30,6))\n",
    "# fivebins_symmetric = combine_sites([symmetricA, symmetricB, symmetricextra], exrho, \"Five bins, symmetric\")"
   ]
  },
  {
   "cell_type": "markdown",
   "metadata": {},
   "source": [
    "# Step 1 get the total area of the site in question"
   ]
  },
  {
   "cell_type": "code",
   "execution_count": null,
   "metadata": {},
   "outputs": [],
   "source": [
    "the_area = fivebins.area"
   ]
  },
  {
   "cell_type": "markdown",
   "metadata": {},
   "source": [
    "# Step 2 get the density \n",
    "In VMD:\n",
    "1. load the trajectory of the empty membrane\n",
    "2. modify do_get_counts.tcl to have the total area of the site\n",
    "3. source do_get_counts.tcl\n",
    "4. It will save to a file called counts_[area].out\n",
    "5. Provide the path here:"
   ]
  },
  {
   "cell_type": "code",
   "execution_count": null,
   "metadata": {},
   "outputs": [],
   "source": [
    "bulk_counts_path = Path(\"/Users/ezry/Projects/Polar_Binning_DeltaG/accessible_area/counts_154.out\")\n",
    "bulk_counts = np.loadtxt(bulk_counts_path)\n",
    "\n",
    "frequencies = np.bincount(bulk_counts.astype(int).flatten())\n",
    "probabilities = frequencies/np.sum(frequencies)\n",
    "fig, ax = plt.subplots()\n",
    "ax.plot(range(len(probabilities)), probabilities)\n",
    "ax.set_ylabel(\"Probability\")\n",
    "ax.set_xlabel(f\"Number of beads in an area about {int(the_area)} \"+r\"$\\AA^2$\")\n",
    "bulk_mode = np.argmax(probabilities)\n",
    "ax.vlines([bulk_mode], 0, np.max(probabilities), color = 'black', linestyles='dashed', label = f\"mode={bulk_mode}\")\n",
    "ax.legend()"
   ]
  },
  {
   "cell_type": "markdown",
   "metadata": {},
   "source": [
    "# Compare the bulk mode with the site mode"
   ]
  },
  {
   "cell_type": "code",
   "execution_count": null,
   "metadata": {},
   "outputs": [],
   "source": [
    "fig, ax = plt.subplots(1,1)\n",
    "\n",
    "# axes[0,0] = plot_density(onebin, axes[0,0])\n",
    "# axes[0,1] = plot_density(onebin_symmetric, axes[0,1])\n",
    "# axes[1,0] = plot_density(fourbins, axes[1,0])\n",
    "# axes[1,1] = plot_density(fourbins_symmetric, axes[1,1])\n",
    "ax = plot_density(fivebins, ax)\n",
    "# axes[2,1] = plot_density(fivebins_symmetric, axes[2,1])\n",
    "\n"
   ]
  },
  {
   "cell_type": "code",
   "execution_count": null,
   "metadata": {},
   "outputs": [],
   "source": [
    "expt_mode = np.argmax(np.bincount(fivebins.counts.astype(int).flatten()))\n",
    "expt_mode"
   ]
  },
  {
   "cell_type": "markdown",
   "metadata": {},
   "source": [
    "# The accessible area is...\n",
    "$A_\\mathrm{acc} = A_\\mathrm{total} \\frac{M_\\mathrm{site}}{M_\\mathrm{bulk}}$"
   ]
  },
  {
   "cell_type": "code",
   "execution_count": null,
   "metadata": {},
   "outputs": [],
   "source": [
    "A_acc = the_area * expt_mode / bulk_mode\n",
    "print(A_acc)"
   ]
  },
  {
   "cell_type": "code",
   "execution_count": null,
   "metadata": {},
   "outputs": [],
   "source": []
  }
 ],
 "metadata": {
  "kernelspec": {
   "display_name": "jupEnv",
   "language": "python",
   "name": "python3"
  },
  "language_info": {
   "codemirror_mode": {
    "name": "ipython",
    "version": 3
   },
   "file_extension": ".py",
   "mimetype": "text/x-python",
   "name": "python",
   "nbconvert_exporter": "python",
   "pygments_lexer": "ipython3",
   "version": "3.9.16"
  }
 },
 "nbformat": 4,
 "nbformat_minor": 2
}
