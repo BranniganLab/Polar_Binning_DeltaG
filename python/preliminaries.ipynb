{
 "cells": [
  {
   "cell_type": "code",
   "execution_count": null,
   "metadata": {},
   "outputs": [],
   "source": [
    "import numpy as np\n",
    "import pandas as pd\n",
    "from pathlib import Path\n",
    "import matplotlib.pyplot as plt\n",
    "import matplotlib.gridspec as gridspec\n",
    "from matplotlib.colors import LogNorm\n",
    "from matplotlib.ticker import LogFormatterExponent\n",
    "from DTA.enrichment_plotters import polar_plot, get_file_list, get_helices, read_rep\n",
    "from DTA.polarDensity_helper import Coord_Get, get_header_info\n",
    "from DTA.site_distributions import outline_site, make_symmetric_sites, combine_sites, plot_density, Site\n",
    "plt.rcParams['axes.grid'] = False "
   ]
  },
  {
   "cell_type": "code",
   "execution_count": null,
   "metadata": {},
   "outputs": [],
   "source": [
    "# Enrichment plot colormap\n",
    "from matplotlib.colors import ListedColormap\n",
    "depleted = plt.cm.get_cmap('RdGy_r', 256)\n",
    "enriched = plt.cm.get_cmap('bwr', 256)\n",
    "newcolors = np.concatenate([depleted(np.linspace(0.35, 0.5, 128)), enriched(np.linspace(0.5,1,128))])\n",
    "my_cmap = ListedColormap(newcolors)"
   ]
  },
  {
   "cell_type": "markdown",
   "metadata": {},
   "source": [
    "# Identify one or more sites from enrichment plots"
   ]
  },
  {
   "cell_type": "markdown",
   "metadata": {},
   "source": [
    "# Important User Settings:"
   ]
  },
  {
   "cell_type": "code",
   "execution_count": null,
   "metadata": {},
   "outputs": [],
   "source": [
    "lipids = [\"POPG\", \"POPE\"]\n",
    "leaflets = ['low', 'upp']\n",
    "root = Path(\"/Users/ezry/Projects/ELIC_PE_PG/aggregated/\")\n",
    "replicas = [\"rep1\", \"rep3\", \"liam\"]\n",
    "\n",
    "enrichments = None\n",
    "counts = None\n",
    "helices_upr, helices_lwr = get_helices(root.joinpath(replicas[2]))\n",
    "for rep in replicas:\n",
    "    reppath = root.joinpath(rep)\n",
    "    file_list = get_file_list(reppath, lipids)\n",
    "    rad, dr, dth, theta, radius, frames, Ntheta = Coord_Get(file_list[0])\n",
    "    cts, rich = read_rep(file_list, lipids, leaflets, enrich=True)\n",
    "    if counts is None:\n",
    "        counts = cts\n",
    "        enrichments = rich\n",
    "    else:\n",
    "        counts = counts+cts\n",
    "        enrichments = enrichments+rich\n",
    "    \n",
    "\n",
    "counts = counts/len(replicas)\n",
    "enrichments = enrichments/len(replicas)\n",
    "thetas = np.unique(theta.flatten())"
   ]
  },
  {
   "cell_type": "code",
   "execution_count": null,
   "metadata": {},
   "outputs": [],
   "source": [
    "thetas = np.unique(theta.flatten())\n",
    "site1def = {'theta_start':4, 'width':3, 'inner_r':24, 'outer_r':30, 'Ntheta':Ntheta, 'dr':dr, 'dth':dth, 'exrho':1, 'frames':frames, 'sitename':\"Site 1 \"}\n",
    "site2def = {'theta_start':9, 'width':4, 'inner_r':22, 'outer_r':32, 'Ntheta':Ntheta, 'dr':dr, 'dth':dth, 'exrho':1, 'frames':frames, 'sitename':\"Site 2 \"}\n",
    "\n",
    "dummy_site1 = make_symmetric_sites([], **site1def)"
   ]
  },
  {
   "cell_type": "code",
   "execution_count": null,
   "metadata": {},
   "outputs": [],
   "source": [
    "from matplotlib.colors import ListedColormap\n",
    "depleted = plt.cm.get_cmap('RdGy_r', 256)\n",
    "enriched = plt.cm.get_cmap('bwr', 256)\n",
    "newcolors = np.concatenate([depleted(np.linspace(0.35, 0.5, 128)), enriched(np.linspace(0.5,1,128))])\n",
    "my_cmap = ListedColormap(newcolors)"
   ]
  },
  {
   "cell_type": "code",
   "execution_count": null,
   "metadata": {},
   "outputs": [],
   "source": [
    "\n",
    "enrichments.at['POPE', 'low'][0:1,:]=0\n",
    "fig, axes = polar_plot(enrichments, \n",
    "                       theta, \n",
    "                       radius, \n",
    "                       lipids, \n",
    "                       helices_lwr, \n",
    "                       helices_upr, \n",
    "                       colorbychain=False, \n",
    "                       vmin=0.75, \n",
    "                       vmax=1.5, \n",
    "                       vmid=1,\n",
    "                       figheight=8,\n",
    "                       figwidth=8,\n",
    "                       cmap=my_cmap)\n",
    "fig.tight_layout()\n",
    "plt.savefig(root.joinpath(\"ELIC_enrichments.pdf\"))\n",
    "plt.show()"
   ]
  },
  {
   "cell_type": "markdown",
   "metadata": {},
   "source": [
    "# Get Accessible Area"
   ]
  },
  {
   "cell_type": "markdown",
   "metadata": {},
   "source": [
    "# Step 0: define a site\n",
    "\n",
    "This is done with the plotting_show_binID notebook.\n",
    "Some examples from ELIC:"
   ]
  },
  {
   "cell_type": "code",
   "execution_count": null,
   "metadata": {},
   "outputs": [],
   "source": [
    "# User parameters\n",
    "lipid = \"DPPC\"\n",
    "leaf = \"upp\"\n",
    "the_site_def = site1def\n",
    "data_root = Path(\"/Users/ezry/Projects/ELIC_DPPC/elicPE17_DPPC/\")\n",
    "fpath = data_root.joinpath(f\"{lipid}.dat.{leaf}.dat\")"
   ]
  },
  {
   "cell_type": "code",
   "execution_count": null,
   "metadata": {},
   "outputs": [],
   "source": [
    "num_mol,avg_A,beads,exrho,avg_chain = get_header_info(fpath)\n",
    "the_data = np.loadtxt(fpath, skiprows=1)\n",
    "rad, dr, dth, theta, radius, frames, Ntheta = Coord_Get(fpath)\n",
    "\n",
    "# Update exrho and frames based on the above since it will differ for DPPC. All other parameters are constant across systems.\n",
    "the_site_def['exrho'] = exrho\n",
    "the_site_def['frames'] = frames\n",
    "\n",
    "\n",
    "the_sites = make_symmetric_sites(the_data, **the_site_def)\n",
    "site1_symmetric = combine_sites(the_sites, exrho, f\"{the_site_def['sitename'][:-1]}, Symmetric\", symmetric=True)\n",
    "\n",
    "sites = {'a_site':the_sites[0], \n",
    "         'the_site_symmetric':site1_symmetric,\n",
    "         }"
   ]
  },
  {
   "cell_type": "markdown",
   "metadata": {},
   "source": [
    "# Step 1 get the total area of the site in question"
   ]
  },
  {
   "cell_type": "code",
   "execution_count": null,
   "metadata": {},
   "outputs": [],
   "source": [
    "for name, site in sites.items():\n",
    "    print(f\"{site.title:<20}:{np.round(site.area,1):>5}\")"
   ]
  },
  {
   "cell_type": "markdown",
   "metadata": {},
   "source": [
    "# Step 2 get the density \n",
    "In VMD:\n",
    "1. load the trajectory of the empty membrane\n",
    "2. modify do_get_counts.tcl to have the total area of the site\n",
    "3. source do_get_counts.tcl\n",
    "4. It will save to a file called counts_[area].out\n",
    "5. Provide the path here:"
   ]
  },
  {
   "cell_type": "code",
   "execution_count": null,
   "metadata": {},
   "outputs": [],
   "source": [
    "area = 125\n",
    "bulk_counts_path = Path(f\"/Users/ezry/Projects/Polar_Binning_DeltaG/accessible_area/counts_{area}.out\")\n",
    "bulk_counts = np.loadtxt(bulk_counts_path)\n",
    "\n",
    "frequencies = np.bincount(bulk_counts.astype(int).flatten())\n",
    "probabilities = frequencies/np.sum(frequencies)\n",
    "fig, ax = plt.subplots()\n",
    "ax.plot(range(len(probabilities)), probabilities)\n",
    "ax.set_ylabel(\"Probability\")\n",
    "ax.set_xlabel(f\"Number of beads in an area about {area} \"+r\"$\\AA^2$\")\n",
    "bulk_mode = np.argmax(probabilities)\n",
    "ax.vlines([bulk_mode], 0, np.max(probabilities), color = 'black', linestyles='dashed', label = f\"mode={bulk_mode}\")\n",
    "ax.legend()"
   ]
  },
  {
   "cell_type": "markdown",
   "metadata": {},
   "source": [
    "# Compare the bulk mode with the site mode"
   ]
  },
  {
   "cell_type": "code",
   "execution_count": null,
   "metadata": {},
   "outputs": [],
   "source": [
    "rows = 1\n",
    "cols = 2\n",
    "fig, axes = plt.subplots(rows,cols, figsize=(10,5))\n",
    "\n",
    "for site, ax in zip(sites.values(), axes.flatten()):\n",
    "    ax = plot_density(site, ax)\n",
    "\n",
    "fig.tight_layout()\n",
    "plt.savefig(data_root.joinpath(\"Raw_distributions.pdf\"))"
   ]
  },
  {
   "cell_type": "code",
   "execution_count": null,
   "metadata": {},
   "outputs": [],
   "source": [
    "print(f\"{'Site Name':<20}:{'Experimental Mode':>5}\")\n",
    "expt_modes = {}\n",
    "for key, site in sites.items():\n",
    "    counts = site.counts.astype(int)\n",
    "    bincounts = np.bincount(counts.flatten())[1:]\n",
    "    the_mode = np.argmax(bincounts)\n",
    "    expt_modes[key] = the_mode\n",
    "    print(f\"{key:<20}:{np.round(the_mode,1):>5}\")"
   ]
  },
  {
   "cell_type": "markdown",
   "metadata": {},
   "source": [
    "# The accessible area is...\n",
    "ASSUMING $\\left(A_\\mathrm{site} \\approx A_\\mathrm{bulk}\\right) \\forall A_\\mathrm{site}$\n",
    "\n",
    "$A_\\mathrm{acc} = A_\\mathrm{total} \\frac{M_\\mathrm{site}}{M_\\mathrm{bulk}}$"
   ]
  },
  {
   "cell_type": "code",
   "execution_count": null,
   "metadata": {},
   "outputs": [],
   "source": [
    "print(f\"{'Site Name':<20}:{'Accessible Area':>5}\")\n",
    "areas = {}\n",
    "for name, site in sites.items():\n",
    "    A_acc = site.area * expt_modes[name] / bulk_mode\n",
    "    site.area = A_acc\n",
    "    print(f\"{name:<20}:{np.round(A_acc,1):>5}\")"
   ]
  },
  {
   "cell_type": "markdown",
   "metadata": {},
   "source": [
    "# Replot with new areas:"
   ]
  },
  {
   "cell_type": "code",
   "execution_count": null,
   "metadata": {},
   "outputs": [],
   "source": [
    "for name, site in sites.items():\n",
    "    site.Npeak = np.mean(bulk_counts)/area * site.area"
   ]
  },
  {
   "cell_type": "code",
   "execution_count": null,
   "metadata": {},
   "outputs": [],
   "source": [
    "rows = 2\n",
    "cols = 2\n",
    "fig, axes = plt.subplots(rows,cols, figsize=(15,15))\n",
    "\n",
    "for site, ax in zip(sites.values(), axes.flatten()):\n",
    "    ax = plot_density(site, ax)\n",
    "    ax.text(.01, .99, f\"Accessible area:\"+str(np.round(site.area,1))+r\"$\\AA^2$\", ha='left', va='top', transform=ax.transAxes)\n",
    "    ax.vlines(np.mean(site.counts), 0, 0.3)\n",
    "plt.savefig(data_root.joinpath(f\"replotted_with_corrected_expectation_area{area}_{leaf}.pdf\"))"
   ]
  },
  {
   "cell_type": "code",
   "execution_count": null,
   "metadata": {},
   "outputs": [],
   "source": []
  },
  {
   "cell_type": "code",
   "execution_count": null,
   "metadata": {},
   "outputs": [],
   "source": []
  }
 ],
 "metadata": {
  "kernelspec": {
   "display_name": "jupEnv",
   "language": "python",
   "name": "python3"
  },
  "language_info": {
   "codemirror_mode": {
    "name": "ipython",
    "version": 3
   },
   "file_extension": ".py",
   "mimetype": "text/x-python",
   "name": "python",
   "nbconvert_exporter": "python",
   "pygments_lexer": "ipython3",
   "version": "3.9.16"
  }
 },
 "nbformat": 4,
 "nbformat_minor": 2
}
