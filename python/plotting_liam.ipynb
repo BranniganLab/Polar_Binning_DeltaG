{
 "cells": [
  {
   "cell_type": "code",
   "execution_count": 1,
   "metadata": {},
   "outputs": [
    {
     "name": "stderr",
     "output_type": "stream",
     "text": [
      "/u2/home_u2/ems363/miniconda3/envs/jupEnv/lib/python3.9/site-packages/matplotlib/projections/__init__.py:63: UserWarning: Unable to import Axes3D. This may be due to multiple versions of Matplotlib being installed (e.g. as a system package and as a pip package). As a result, the 3D projection is not available.\n",
      "  warnings.warn(\"Unable to import Axes3D. This may be due to multiple versions of \"\n"
     ]
    }
   ],
   "source": [
    "import numpy as np\n",
    "import pandas as pd\n",
    "import polarDensity_helper as pc\n",
    "from pathlib import Path\n",
    "import matplotlib.pyplot as plt\n",
    "import matplotlib.gridspec as gridspec\n",
    "from matplotlib.colors import LogNorm\n",
    "from matplotlib.ticker import LogFormatterExponent\n",
    "plt.rcParams['axes.grid'] = False "
   ]
  },
  {
   "cell_type": "markdown",
   "metadata": {},
   "source": [
    "# Important User Settings:"
   ]
  },
  {
   "cell_type": "code",
   "execution_count": 2,
   "metadata": {},
   "outputs": [],
   "source": [
    "# root = Path(\"/home/ems363/Projects/ELIC_PE_PG/trajectory_version\")\n",
    "# chains_groups = [\"POPE\", \"POPG\"]\n",
    "#root = Path(\"/home/ems363/Projects/ELIC_PE_PG/aggregated/\")\n",
    "root = Path(\"/home/ems363/Projects/ELIC_PE_PG/aggregated/rep1/\")\n",
    "#root = Path(\"/home/ems363/Projects/ELIC_PE_PG/liam/trajectory_version/\")\n",
    "chains_groups = [\"POPG\"]\n",
    "lipids = chains_groups"
   ]
  },
  {
   "cell_type": "code",
   "execution_count": 3,
   "metadata": {},
   "outputs": [],
   "source": [
    "enrich = True\n",
    "\n",
    "# get files to use\n",
    "\n",
    "file_list = []\n",
    "for lip in lipids:\n",
    "    toadd = list(root.glob(f\"{lip}.dat*avg.dat\") )\n",
    "    file_list = np.append(file_list,toadd)\n",
    "\n",
    "leaflets = ['low', 'upp']"
   ]
  },
  {
   "cell_type": "code",
   "execution_count": 4,
   "metadata": {},
   "outputs": [],
   "source": [
    "enrichments = pd.DataFrame(index=chains_groups, columns=leaflets)\n",
    "counts = pd.DataFrame(index=chains_groups, columns=leaflets)\n",
    "\n",
    "idx = 0\n",
    "for fl in file_list:\n",
    "    if idx == 0:\n",
    "        rad, dr, dth, theta, radius, frames, Ntheta = pc.Coord_Get(fl)\n",
    "\n",
    "    filename = fl.name\n",
    "\n",
    "    tmp_chain = filename.split('.')[0]\n",
    "    tmp_nm = filename.split('.')[2]\n",
    "\n",
    "    # This is a hack. The above part does not have a \"flexible\"\n",
    "    # method to consider sim type (a, b ...)\n",
    "    idx+=1\n",
    "    toadd = np.loadtxt(fl, skiprows=1)\n",
    "    toadd = toadd[:,3:-1]\n",
    "    counts.at[tmp_chain,tmp_nm] = toadd\n",
    "    enrichments.at[tmp_chain,tmp_nm] = pc._analysis_call_(fl, radius, dr, dth, frames, enrich=enrich)\n"
   ]
  },
  {
   "cell_type": "code",
   "execution_count": 5,
   "metadata": {},
   "outputs": [],
   "source": [
    "# Optional helix locations\n",
    "try:\n",
    "    helices_lwr = np.loadtxt(root.joinpath(\"Protein_coords_lwr.dat\"))\n",
    "    helices_upr = np.loadtxt(root.joinpath(\"Protein_coords_upr.dat\"))\n",
    "except FileNotFoundError:\n",
    "    helices_lwr = None\n",
    "    helices_upr = None\n",
    "    print(\"Protein coordinates not found\")"
   ]
  },
  {
   "cell_type": "code",
   "execution_count": 6,
   "metadata": {},
   "outputs": [],
   "source": [
    "#    ax = plt.subplot(111,projection=\"polar\")\n",
    "def plot_single(toplot, theta, radius, ax, vmid=1, vmin=0, vmax=2, norm=None):\n",
    "    if norm is None:\n",
    "        norm = pc.MidpointNormalize(midpoint=vmid,vmin=vmin,vmax=vmax)\n",
    "    ax.grid(False)\n",
    "    plt.axis('off')\n",
    "    s = ax.pcolormesh(theta, \n",
    "                        radius, \n",
    "                        toplot,\n",
    "                        cmap='RdBu',\n",
    "                        norm=norm,\n",
    "                        zorder=0,\n",
    "                        edgecolors='face',\n",
    "                        linewidth=0,\n",
    "                        )\n",
    "    s.set_edgecolor('face')\n",
    "    \n",
    "    return ax"
   ]
  },
  {
   "cell_type": "code",
   "execution_count": 7,
   "metadata": {},
   "outputs": [],
   "source": [
    "#  orange   light blue   green       purple      amber      blue       red \n",
    "#\"#E69F00\"  \"#56B4E9\"  \"#009E73\"   \"#CC79A7\"   \"#F5C710\"  \"#0072B2\"  \"#D55E00\"  \n",
    "sub = [\"#E69F00\", \"#56B4E9\", \"#009E73\", \"#CC79A7\", \"#F5C710\", \"#0072B2\", \"#D55E00\"]\n",
    "\n",
    "\n",
    "def plot_helices(helices, colorbychain, ax, markersize=3):\n",
    "    if len(np.shape(helices))==1:\n",
    "        helices = np.reshape(helices, (1,len(helices)))\n",
    "    for i,pro in enumerate(helices[:]):\n",
    "        if colorbychain:\n",
    "            colors = sub[i]\n",
    "        else:\n",
    "            colors = sub[:len(pro[::2])]        \n",
    "        ax.scatter(np.deg2rad(pro[1::2]),\n",
    "                    pro[::2],\n",
    "                    color=colors,\n",
    "                    linewidth=None,\n",
    "                    zorder=1, \n",
    "                    s=markersize,\n",
    "                    )\n",
    "        \n",
    "    return ax"
   ]
  },
  {
   "cell_type": "code",
   "execution_count": null,
   "metadata": {},
   "outputs": [],
   "source": [
    "def do_plot(toplot, \n",
    "                         theta,\n",
    "                         radius,\n",
    "                         ax,\n",
    "                         norm1,\n",
    "                         the_title,\n",
    "                         the_ylabel):\n",
    "    "
   ]
  },
  {
   "cell_type": "code",
   "execution_count": 12,
   "metadata": {},
   "outputs": [],
   "source": [
    "def polar_plot(data_in, \n",
    "               theta, \n",
    "               radius, \n",
    "               chains_groups, \n",
    "               helices_lwr=None, \n",
    "               helices_upr=None, \n",
    "               vmax=2, \n",
    "               vmid=1, \n",
    "               vmin=0, \n",
    "               colorbychain=True,\n",
    "               figwidth=20,\n",
    "               figheight=20):\n",
    "\t# plots densities\n",
    "\t# data_in = array/list of density data\n",
    "\t# theta, radius = arrays of position bins\n",
    "\t# chains_groups = old name, really lipids to plot\n",
    "\n",
    "    data_in = pc.sum_reps(data_in)\n",
    "    fig = plt.figure(figsize=(figwidth,figheight))\n",
    "    gs1=gridspec.GridSpec(len(chains_groups),2,wspace=.15, hspace=0.15)\n",
    "    plt.rcParams.update({'font.size': 10})\n",
    "    norm1 = pc.MidpointNormalize(midpoint=vmid,vmin=vmin,vmax=vmax)\n",
    "    cmap = plt.cm.RdBu#PuOr\n",
    "    cmap.set_bad(color='black')\n",
    "    grid = 0    \n",
    "    for cg in chains_groups:\n",
    "        for leaf in data_in.columns:\n",
    "            toplot = data_in.at[cg,leaf]\n",
    "            ax = plt.subplot(gs1[grid],projection=\"polar\")\n",
    "            if grid%2==0:\n",
    "                ax.set_ylabel(cg)\n",
    "            if grid < 2:\n",
    "                ax.set_title(leaf)\n",
    "\n",
    "            ax = plot_single(toplot, theta, radius, ax, norm=norm1)\n",
    "            ax.set_xticklabels([])\n",
    "            ax.set_yticklabels([])\n",
    "                    \n",
    "            if leaf==\"Outer\":\n",
    "                helices = helices_upr\n",
    "            else:\n",
    "                helices = helices_lwr\n",
    "\n",
    "            ax = plot_helices(helices, colorbychain, ax, markersize=50)\n",
    "            \n",
    "            grid = grid + 1\n",
    "\n",
    "    fig.subplots_adjust(right=0.8)\n",
    "    cbar_ax = fig.add_axes([0.21, .89, 0.5, 0.008])\n",
    "    sm = plt.cm.ScalarMappable(cmap=cmap)\n",
    "    cbar = fig.colorbar(sm, cax=cbar_ax, orientation=\"horizontal\")\n",
    "    cbar.set_ticks(np.linspace(0,1,5))\n",
    "    cbar.ax.set_xticklabels([vmin, (vmin+vmid)/2, vmid, (vmid+vmax)/2, vmax])\n",
    "\n",
    "    #plt.tight_layout()\n",
    "    return fig, fig.axes"
   ]
  },
  {
   "cell_type": "code",
   "execution_count": 13,
   "metadata": {},
   "outputs": [],
   "source": [
    "thetas = np.unique(theta.flatten())"
   ]
  },
  {
   "cell_type": "code",
   "execution_count": 14,
   "metadata": {},
   "outputs": [],
   "source": [
    "bins = {1:(range(4,30,6), np.repeat(27.5,5)), \n",
    "        2:(range(5,30,6), np.repeat(27.5,5)),\n",
    "        3:(range(4,30,6), np.repeat(32.5,5)),\n",
    "        4:(range(5,30,6), np.repeat(32.5,5)),\n",
    "        5:(range(4,30,6), np.repeat(22.5,5))}"
   ]
  },
  {
   "cell_type": "code",
   "execution_count": 17,
   "metadata": {},
   "outputs": [
    {
     "data": {
      "image/png": "[encoded data removed]",
      "text/plain": [
       "<Figure size 800x800 with 3 Axes>"
      ]
     },
     "metadata": {},
     "output_type": "display_data"
    }
   ],
   "source": [
    "fig, axes = polar_plot(enrichments, \n",
    "                       theta, \n",
    "                       radius, \n",
    "                       chains_groups, \n",
    "                       helices_lwr, \n",
    "                       helices_upr, \n",
    "                       colorbychain=False, \n",
    "                       vmin=0, \n",
    "                       vmax=2, \n",
    "                       vmid=1,\n",
    "                       figheight=8,\n",
    "                       figwidth=8)\n",
    "\n",
    "plt.savefig(root.joinpath(\"ELIC_enrichments.pdf\"))\n",
    "plt.show()"
   ]
  },
  {
   "cell_type": "code",
   "execution_count": null,
   "metadata": {},
   "outputs": [],
   "source": []
  }
 ],
 "metadata": {
  "kernelspec": {
   "display_name": "jupEnv",
   "language": "python",
   "name": "python3"
  },
  "language_info": {
   "codemirror_mode": {
    "name": "ipython",
    "version": 3
   },
   "file_extension": ".py",
   "mimetype": "text/x-python",
   "name": "python",
   "nbconvert_exporter": "python",
   "pygments_lexer": "ipython3",
   "version": "3.9.12"
  }
 },
 "nbformat": 4,
 "nbformat_minor": 2
}
