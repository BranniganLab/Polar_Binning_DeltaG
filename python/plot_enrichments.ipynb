{
 "cells": [
  {
   "cell_type": "code",
   "execution_count": null,
   "metadata": {},
   "outputs": [],
   "source": [
    "import numpy as np\n",
    "import pandas as pd\n",
    "import polarDensity_helper as pc\n",
    "from pathlib import Path\n",
    "import matplotlib.pyplot as plt\n",
    "from enrichment_plotters import polar_plot\n",
    "plt.rcParams['axes.grid'] = False "
   ]
  },
  {
   "cell_type": "code",
   "execution_count": null,
   "metadata": {},
   "outputs": [],
   "source": [
    "\n",
    "def get_helices(the_path):\n",
    "    # Optional helix locations\n",
    "    try:\n",
    "        helices_lwr = np.loadtxt(the_path.joinpath(\"Protein_coords_lwr.dat\"))\n",
    "        helices_upr = np.loadtxt(the_path.joinpath(\"Protein_coords_upr.dat\"))\n",
    "    except FileNotFoundError:\n",
    "        helices_lwr = None\n",
    "        helices_upr = None\n",
    "        print(\"Protein coordinates not found\")\n",
    "\n",
    "    return helices_upr, helices_lwr\n",
    "\n",
    "def read_rep(file_list, chains_groups, leaflets=['low','upp'], enrich=True):\n",
    "    # get files to use\n",
    "\n",
    "    enrichments = pd.DataFrame(index=chains_groups, columns=leaflets)\n",
    "    counts = pd.DataFrame(index=chains_groups, columns=leaflets)\n",
    "\n",
    "    idx = 0\n",
    "    for fl in file_list:\n",
    "        filename = fl.name\n",
    "        tmp_chain = filename.split('.')[0]\n",
    "        tmp_nm = filename.split('.')[2]\n",
    "        rad, dr, dth, theta, radius, frames, Ntheta = pc.Coord_Get(fl)\n",
    "        # This is a hack. The above part does not have a \"flexible\"\n",
    "        # method to consider sim type (a, b ...)\n",
    "        idx+=1\n",
    "        toadd = np.loadtxt(fl, skiprows=1)\n",
    "        toadd = toadd[:,3:-1]\n",
    "        counts.at[tmp_chain,tmp_nm] = toadd\n",
    "        enrichments.at[tmp_chain,tmp_nm] = pc._analysis_call_(fl, radius, dr, dth, frames, enrich=enrich)\n",
    "\n",
    "    return counts, enrichments"
   ]
  },
  {
   "cell_type": "code",
   "execution_count": null,
   "metadata": {},
   "outputs": [],
   "source": [
    "def get_file_list(root, lipids):\n",
    "    file_list = []\n",
    "    for lip in lipids:\n",
    "        toadd = list(root.glob(f\"{lip}.dat*avg.dat\") )\n",
    "        file_list = np.append(file_list,toadd)\n",
    "    return file_list"
   ]
  },
  {
   "cell_type": "markdown",
   "metadata": {},
   "source": [
    "# Important User Settings:"
   ]
  },
  {
   "cell_type": "code",
   "execution_count": null,
   "metadata": {},
   "outputs": [],
   "source": [
    "lipids = [\"POPG\", \"POPE\"]\n",
    "leaflets = ['low', 'upp']\n",
    "root = Path(\"/home/ems363/Projects/ELIC_PE_PG/aggregated/\")\n",
    "replicas = [\"rep1\", \"rep3\", \"liam\"]\n",
    "\n",
    "enrichments = None\n",
    "counts = None\n",
    "\n",
    "for rep in replicas:\n",
    "    reppath = root.joinpath(rep)\n",
    "    file_list = get_file_list(reppath, lipids)\n",
    "    rad, dr, dth, theta, radius, frames, Ntheta = pc.Coord_Get(file_list[0])\n",
    "    cts, rich = read_rep(file_list, lipids, leaflets, enrich=True)\n",
    "    if counts is None:\n",
    "        counts = cts\n",
    "        enrichments = rich\n",
    "    else:\n",
    "        counts = counts+cts\n",
    "        enrichments = enrichments+rich\n",
    "    helices_upr, helices_lwr = get_helices(reppath)\n",
    "\n",
    "counts = counts/len(replicas)\n",
    "enrichments = enrichments/len(replicas)"
   ]
  },
  {
   "cell_type": "code",
   "execution_count": null,
   "metadata": {},
   "outputs": [],
   "source": [
    "thetas = np.unique(theta.flatten())"
   ]
  },
  {
   "cell_type": "markdown",
   "metadata": {},
   "source": [
    "# Do the plotting"
   ]
  },
  {
   "cell_type": "code",
   "execution_count": null,
   "metadata": {},
   "outputs": [],
   "source": [
    "from matplotlib.colors import ListedColormap\n",
    "depleted = plt.cm.get_cmap('RdGy_r', 256)\n",
    "enriched = plt.cm.get_cmap('seismic', 256)\n",
    "newcolors = np.concatenate([depleted(np.linspace(0.3, 0.5, 128)), enriched(np.linspace(0.5,0.8,128))])\n",
    "my_cmap = ListedColormap(newcolors)"
   ]
  },
  {
   "cell_type": "code",
   "execution_count": null,
   "metadata": {},
   "outputs": [],
   "source": [
    "#enrichments.at['POPE', 'low'][0:1,:]=0\n",
    "fig, axes = polar_plot(enrichments, \n",
    "                       theta, \n",
    "                       radius, \n",
    "                       lipids, \n",
    "                       helices_lwr, \n",
    "                       helices_upr, \n",
    "                       colorbychain=False, \n",
    "                       vmin=0.75, \n",
    "                       vmax=2.5, \n",
    "                       vmid=1,\n",
    "                       figheight=8,\n",
    "                       figwidth=8,\n",
    "                       cmap=my_cmap)\n",
    "\n",
    "plt.savefig(root.joinpath(\"ELIC_enrichments.pdf\"))\n",
    "plt.show()"
   ]
  },
  {
   "cell_type": "code",
   "execution_count": null,
   "metadata": {},
   "outputs": [],
   "source": []
  }
 ],
 "metadata": {
  "kernelspec": {
   "display_name": "jupEnv",
   "language": "python",
   "name": "python3"
  },
  "language_info": {
   "codemirror_mode": {
    "name": "ipython",
    "version": 3
   },
   "file_extension": ".py",
   "mimetype": "text/x-python",
   "name": "python",
   "nbconvert_exporter": "python",
   "pygments_lexer": "ipython3",
   "version": "3.9.12"
  }
 },
 "nbformat": 4,
 "nbformat_minor": 2
}
