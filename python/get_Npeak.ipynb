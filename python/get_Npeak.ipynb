{
 "cells": [
  {
   "cell_type": "code",
   "execution_count": null,
   "metadata": {},
   "outputs": [],
   "source": [
    "import numpy as np\n",
    "import matplotlib.pyplot as plt\n",
    "from pathlib import Path"
   ]
  },
  {
   "cell_type": "code",
   "execution_count": null,
   "metadata": {},
   "outputs": [],
   "source": [
    "def plot_bulk_counts(bulk_counts, ax):\n",
    "    frequencies = np.bincount(bulk_counts.astype(int).flatten())\n",
    "    probabilities = frequencies/np.sum(frequencies)\n",
    "    ax.plot(range(len(probabilities)), probabilities)\n",
    "    ax.set_ylabel(\"P\")\n",
    "    ax.set_xlabel(f\"Number of beads in an area about {area} \"+r\"$\\AA^2$\")\n",
    "    bulk_mode = np.argmax(probabilities)\n",
    "    ax.vlines([bulk_mode], 0, np.max(probabilities), color = 'black', linestyles='dashed', label = f\"mode={bulk_mode}\")\n",
    "    ax.legend()\n",
    "\n",
    "    return ax"
   ]
  },
  {
   "cell_type": "markdown",
   "metadata": {},
   "source": [
    "# Read and plot the distribution\n",
    "In VMD:\n",
    "1. load the trajectory of the empty membrane\n",
    "2. modify do_get_counts.tcl to have the total area of the site\n",
    "3. source do_get_counts.tcl\n",
    "4. It will save to a file called counts_[area].out\n",
    "5. Provide the path here:"
   ]
  },
  {
   "cell_type": "code",
   "execution_count": null,
   "metadata": {},
   "outputs": [],
   "source": [
    "area = 112\n",
    "root = Path(f\"/home/ems363/Projects/Polar_Binning_DeltaG/accessible_area/\")\n",
    "bulk_counts_path = root.joinpath(f\"POPG_counts_{area}_502_frames.out\")\n",
    "bulk_counts = np.loadtxt(bulk_counts_path)\n",
    "\n",
    "fig, ax = plt.subplots()\n",
    "ax = plot_bulk_counts(bulk_counts, ax)\n",
    "plt.savefig(\"POPG_bulk_distribution_500frms.pdf\")"
   ]
  },
  {
   "cell_type": "code",
   "execution_count": null,
   "metadata": {},
   "outputs": [],
   "source": [
    "area = 112\n",
    "root = Path(f\"/home/ems363/Projects/Polar_Binning_DeltaG/accessible_area/\")\n",
    "bulk_counts_path = root.joinpath(f\"POPE_counts_{area}.out\")\n",
    "print(bulk_counts_path)\n",
    "\n",
    "bulk_counts = np.loadtxt(bulk_counts_path)\n",
    "\n",
    "fig, ax = plt.subplots()\n",
    "ax = plot_bulk_counts(bulk_counts, ax)\n",
    "plt.savefig(\"POPE_bulk_distribution_50frms.pdf\")"
   ]
  },
  {
   "cell_type": "code",
   "execution_count": null,
   "metadata": {},
   "outputs": [],
   "source": []
  }
 ],
 "metadata": {
  "kernelspec": {
   "display_name": "jupEnv",
   "language": "python",
   "name": "python3"
  },
  "language_info": {
   "codemirror_mode": {
    "name": "ipython",
    "version": 3
   },
   "file_extension": ".py",
   "mimetype": "text/x-python",
   "name": "python",
   "nbconvert_exporter": "python",
   "pygments_lexer": "ipython3",
   "version": "3.9.12"
  }
 },
 "nbformat": 4,
 "nbformat_minor": 2
}
