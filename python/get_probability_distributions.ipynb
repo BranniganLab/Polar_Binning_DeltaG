{
 "cells": [
  {
   "cell_type": "code",
   "execution_count": null,
   "metadata": {},
   "outputs": [],
   "source": [
    "import numpy as np\n",
    "import pandas as pd\n",
    "import matplotlib.pyplot as plt\n",
    "from pathlib import Path\n",
    "from polarDensity_helper import Coord_Get, get_header_info\n",
    "from dataclasses import dataclass"
   ]
  },
  {
   "cell_type": "code",
   "execution_count": null,
   "metadata": {},
   "outputs": [],
   "source": [
    "@dataclass\n",
    "class Site:\n",
    "    inner_r: float\n",
    "    outer_r: float\n",
    "    thetabins: int\n",
    "    title: str=\"\"\n",
    "    counts: list=None\n",
    "    area: float=0\n",
    "    densities: list=None\n",
    "    Npeak: float=0\n",
    "    mean: float=0\n"
   ]
  },
  {
   "cell_type": "code",
   "execution_count": null,
   "metadata": {},
   "outputs": [],
   "source": [
    "def get_shell(some_data, site:Site, frames, Ntheta, dr):\n",
    "    mask = np.logical_and(some_data[:,0] >= site.inner_r, some_data[:,1] <= site.outer_r)\n",
    "    meta_shell = some_data[mask, 3:-1]\n",
    "    nshells = (site.outer_r-site.inner_r)/dr\n",
    "    assert nshells == int(nshells), \"Error: non-integer number of shells\"\n",
    "    reshaped = np.reshape(meta_shell, (int(nshells),frames, Ntheta))\n",
    "    flattened = np.sum(reshaped, axis=0)\n",
    "    return flattened\n",
    "\n",
    "def plot_density(site:Site, ax):\n",
    "    dG = get_dg(site)\n",
    "\n",
    "    ax.vlines(site.Npeak, 0, np.max(site.densities), color='k', linestyles='dashed', label=\"expected mean\")\n",
    "    ax.vlines(site.mean, 0, np.max(site.densities), color='red', linestyles='solid', label=\"actual mean\")\n",
    "    ax.plot(np.arange(len(site.densities)), site.densities, label=r\"$\\Delta G =$\"+f\"{np.round(dG,2)}kcal/mol\")\n",
    "\n",
    "    ax.legend()\n",
    "    ax.set_xlabel(r\"$N_\\mathrm{beads}$\")\n",
    "    ax.set_ylabel(\"Probability Density\")\n",
    "    ax.set_title(site.title)\n",
    "\n",
    "    return ax\n",
    "\n",
    "def get_site_stats(site, exrho):\n",
    "    new_site = site\n",
    "    frequencies = np.bincount(site.counts.astype(int).flatten())\n",
    "    new_site.densities = frequencies/np.sum(frequencies)\n",
    "    \n",
    "    new_site.Npeak = exrho*site.area\n",
    "    new_site.mean = np.mean(site.counts)\n",
    "    return new_site\n",
    "\n",
    "def get_area(site:Site, dth):\n",
    "    return np.mean([site.inner_r, site.outer_r])*(site.outer_r-site.inner_r)*dth*site.thetabins\n",
    "\n",
    "def get_dg(site, RT= 0.6427483):\n",
    "    p_lessthan = np.sum(site.densities[:int(site.Npeak)])\n",
    "    p_greaterthan = np.sum(site.densities[int(site.Npeak):])\n",
    "    dG = -RT*np.log(p_greaterthan/p_lessthan)\n",
    "    return dG"
   ]
  },
  {
   "cell_type": "code",
   "execution_count": null,
   "metadata": {},
   "outputs": [],
   "source": [
    "lipid = \"POPG\"\n",
    "leaf = \"upp\"\n",
    "data_root = Path(\"/Users/ezry/Projects/ELIC_PE_PG/trajectory_version/\")\n",
    "fpath = data_root.joinpath(f\"{lipid}.dat.{leaf}.dat\")"
   ]
  },
  {
   "cell_type": "code",
   "execution_count": null,
   "metadata": {},
   "outputs": [],
   "source": [
    "num_mol,avg_A,beads,exrho,avg_chain = get_header_info(fpath)\n",
    "the_data = np.loadtxt(fpath, skiprows=1)\n",
    "rad, dr, dth, theta, radius, frames, Ntheta = Coord_Get(fpath)\n"
   ]
  },
  {
   "cell_type": "code",
   "execution_count": null,
   "metadata": {},
   "outputs": [],
   "source": [
    "def make_simple_site(inner_r, outer_r, nth, Ntheta, dr, dth, exrho, the_thetas, title):\n",
    "    the_site = Site(inner_r, outer_r, nth, title)\n",
    "\n",
    "    tmp_shell = get_shell(the_data, the_site, frames, Ntheta, dr)\n",
    "    the_site.counts = tmp_shell[:,the_thetas]\n",
    "    the_site.area = get_area(the_site, dth)\n",
    "    the_site = get_site_stats(the_site, exrho)\n",
    "\n",
    "    return the_site"
   ]
  },
  {
   "cell_type": "code",
   "execution_count": null,
   "metadata": {},
   "outputs": [],
   "source": [
    "onebin = make_simple_site(25, 30, 1, Ntheta, dr, dth, exrho, [29], f\"M4 site, one bin\")\n",
    "onebin_symmetric = make_simple_site(25, 30, 1, Ntheta, dr, dth, exrho, np.arange(5,30,6), \"M4 site, one bin, symmetric sites\")\n",
    "fourbins = make_simple_site(25, 35, 2, Ntheta, dr, dth, exrho, np.arange(28,30,1), \"M4 site, four bins\")"
   ]
  },
  {
   "cell_type": "code",
   "execution_count": null,
   "metadata": {},
   "outputs": [],
   "source": [
    "fig, axes = plt.subplots(3,2, figsize=(15,15))\n",
    "\n",
    "axes[0,0] = plot_density(onebin, axes[0,0])\n",
    "axes[0,1] = plot_density(onebin_symmetric, axes[0,1])\n",
    "axes[1,0] = plot_density(fourbins, axes[1,0])\n",
    "\n",
    "plt.savefig(f\"All_Site_Definitions.pdf\")"
   ]
  },
  {
   "cell_type": "code",
   "execution_count": null,
   "metadata": {},
   "outputs": [],
   "source": [
    "inner_r = 25\n",
    "outer_r = 35\n",
    "test_shell = get_shell(the_data, inner_r, outer_r, frames, Ntheta, dr)\n",
    "the_thetas = np.arange(28,30,1)\n",
    "site = np.sum(test_shell[:,the_thetas], axis=1)\n",
    "\n",
    "ntheta = 2\n",
    "site_area = get_area(inner_r, outer_r, dth, ntheta)\n",
    "densities, Nexpected, experimental_mean = get_site_stats(site, site_area, exrho)\n",
    "fig, ax = plot_density(densities, Nexpected, experimental_mean)\n",
    "ax.set_title(f\"Four bins: {lipid} {leaf}er leaflet between {inner_r} and {outer_r} Angstroms from origin\")\n",
    "\n",
    "plt.savefig(f\"four_bins_{lipid}_{leaf}.pdf\")"
   ]
  },
  {
   "cell_type": "code",
   "execution_count": null,
   "metadata": {},
   "outputs": [],
   "source": [
    "inner_r = 25\n",
    "outer_r = 35\n",
    "large_shell = get_shell(the_data, inner_r, outer_r, frames, Ntheta, dr)\n",
    "small_shell = get_shell(the_data, 20, 25, frames, Ntheta, dr)\n",
    "site = np.sum(large_shell[:,28:30], axis=1)+small_shell[:,28]\n",
    "\n",
    "ntheta = 2\n",
    "site_area = get_area(inner_r, outer_r, dth, ntheta)\n",
    "densities, Nexpected, experimental_mean = get_site_stats(site, site_area, exrho)\n",
    "fig, ax = plot_density(densities, Nexpected, experimental_mean)\n",
    "ax.set_title(f\"Four bins: {lipid} {leaf}er leaflet between {inner_r} and {outer_r} Angstroms from origin, symmetric\")\n",
    "\n",
    "plt.savefig(f\"four_bins_symmetric_{lipid}_{leaf}.pdf\")"
   ]
  },
  {
   "cell_type": "code",
   "execution_count": null,
   "metadata": {},
   "outputs": [],
   "source": [
    "#Part A the four contiguous bins\n",
    "inner_r = 25\n",
    "outer_r = 35\n",
    "ntheta = 2\n",
    "areaA = get_area(inner_r, outer_r, dth, ntheta)\n",
    "large_shell = get_shell(the_data, inner_r, outer_r, frames, Ntheta, dr)\n",
    "theta_A = np.sum([large_shell[:,4:30:6], small_shell[:,4:30:6]], axis=0)\n",
    "\n",
    "\n",
    "#Part B, the one extra bin\n",
    "inner_r = 20\n",
    "outer_r = 25\n",
    "ntheta = 1\n",
    "areaB = get_area(inner_r, outer_r, dth, ntheta)\n",
    "small_shell = get_shell(the_data, inner_r, outer_r, frames, Ntheta, dr)\n",
    "theta_B = large_shell[:,5:30:6]\n",
    "\n",
    "\n",
    "#aggregate:\n",
    "site = theta_A+theta_B\n",
    "site_area = areaA+areaB\n",
    "\n",
    "\n",
    "densities, Nexpected, experimental_mean = get_site_stats(site, site_area, exrho)\n",
    "fig, ax = plot_density(densities, Nexpected, experimental_mean)\n",
    "ax.set_title(f\"Five bins: {lipid} {leaf}er leaflet between {inner_r} and {outer_r} Angstroms from origin, symmetric\")\n",
    "\n",
    "plt.savefig(f\"five_bins_symmetric_{lipid}_{leaf}.pdf\")"
   ]
  },
  {
   "cell_type": "code",
   "execution_count": null,
   "metadata": {},
   "outputs": [],
   "source": [
    "\n"
   ]
  },
  {
   "cell_type": "code",
   "execution_count": null,
   "metadata": {},
   "outputs": [],
   "source": []
  }
 ],
 "metadata": {
  "kernelspec": {
   "display_name": "jupEnv",
   "language": "python",
   "name": "python3"
  },
  "language_info": {
   "codemirror_mode": {
    "name": "ipython",
    "version": 3
   },
   "file_extension": ".py",
   "mimetype": "text/x-python",
   "name": "python",
   "nbconvert_exporter": "python",
   "pygments_lexer": "ipython3",
   "version": "3.9.16"
  }
 },
 "nbformat": 4,
 "nbformat_minor": 2
}
