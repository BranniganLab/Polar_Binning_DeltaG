{
 "cells": [
  {
   "cell_type": "code",
   "execution_count": null,
   "metadata": {},
   "outputs": [],
   "source": [
    "import numpy as np\n",
    "import pandas as pd\n",
    "import matplotlib.pyplot as plt\n",
    "from pathlib import Path"
   ]
  },
  {
   "cell_type": "code",
   "execution_count": null,
   "metadata": {},
   "outputs": [],
   "source": [
    "# \"Computs\" center of \"mass\" for radial bins\n",
    "def calc_rad(dat):\n",
    "    # TODO Something is wrong here\n",
    "    # starts at 0, didn't it start at 4?\n",
    "    rad1,counts = np.unique(dat[:,0], return_counts=True)\n",
    "    rad2 = np.unique(dat[:,1])\n",
    "    rad = rad2-(rad2-rad1)/2.0\n",
    "    counts = counts[0]\n",
    "    return rad,counts\n",
    "    \n",
    "\n",
    "def Coord_Get(fl_in):\n",
    "    '''\n",
    "    Function to determine the radius and theta matrix\n",
    "    plt_size is dependent on the size of the membrane plotted\n",
    "    *** plt_size is no longer used remove ***\n",
    "    \n",
    "    dr, dth, theta, radius = Coord_Get(50)\n",
    "    '''\n",
    "    dat = np.loadtxt(fl_in, skiprows=1)\n",
    "    Ntheta = np.shape(dat)[1]-4\n",
    "    frames = 1\n",
    "    #rad = dat[:,1]+(dat[:,1]-dat[:,0])/2.0    \n",
    "    rad, frames = calc_rad(dat)\n",
    "    dr = rad[1]-rad[0]\n",
    "    the = np.linspace(0,2*np.pi,Ntheta)\n",
    "    dth = the[1]-the[0]\n",
    "    theta,radius=np.meshgrid(the,rad)\n",
    "\n",
    "    return rad, dr, dth, theta, radius, frames, Ntheta\n",
    "\n",
    "def get_header_info(fpath):\n",
    "    '''\n",
    "    Parameters\n",
    "    ----------\n",
    "    sat_files : str\n",
    "        path to a data file. extracts extra information\n",
    "        used for analysis\n",
    "\n",
    "    Returns\n",
    "    -------\n",
    "    list\n",
    "        Number of molecules, number of beads per mol, and expected\n",
    "        density.\n",
    "    '''\n",
    "    line = open(fpath,'r').readline()\n",
    "    num_mol = float(line.split(\",\")[0].split(\":\")[1].split(\" \")[1])\n",
    "    beads = float(line.split(\",\")[1].split(\":\")[1].split(\" \")[1])\n",
    "    avg_A = float(line.split(',')[2].split(\":\")[1].split(\" \")[1])\n",
    "    exrho = float(line.split(\",\")[3].split(\":\")[1].split(\"/\")[0])\n",
    "    avg_chain = float(line.split(\",\")[4].split(\":\")[1].split(\" \")[1])\n",
    "    return num_mol,avg_A,beads,exrho,avg_chain"
   ]
  },
  {
   "cell_type": "code",
   "execution_count": null,
   "metadata": {},
   "outputs": [],
   "source": [
    "data_root = Path(\"../ELIC_PE_PG/trajectory_version/\")\n",
    "fpath = data_root.joinpath(\"POPG.dat.upp.dat\")"
   ]
  },
  {
   "cell_type": "code",
   "execution_count": null,
   "metadata": {},
   "outputs": [],
   "source": [
    "num_mol,avg_A,beads,exrho,avg_chain = get_header_info(fpath)\n",
    "the_data = np.loadtxt(fpath, skiprows=1)\n",
    "rad, dr, dth, theta, radius, frames, Ntheta = Coord_Get(fpath)\n"
   ]
  },
  {
   "cell_type": "code",
   "execution_count": null,
   "metadata": {},
   "outputs": [],
   "source": [
    "def get_shell(some_data, inner_radius):\n",
    "    mask = some_data[:,0] == inner_radius\n",
    "    return some_data[mask, 3:-1]"
   ]
  },
  {
   "cell_type": "code",
   "execution_count": null,
   "metadata": {},
   "outputs": [],
   "source": [
    "test_radius = 60\n",
    "test_shell = get_shell(the_data, test_radius)\n"
   ]
  },
  {
   "cell_type": "code",
   "execution_count": null,
   "metadata": {},
   "outputs": [],
   "source": [
    "frequencies = np.bincount(test_shell[:,:].astype(int).flatten())\n",
    "densities = frequencies/np.sum(frequencies)\n",
    "fig, ax = plt.subplots()\n",
    "ax.plot(np.arange(len(frequencies)), densities)\n",
    "ax.vlines(dr*dth*test_radius*exrho, 0, np.max(densities), color='k', linestyles='dashed')\n",
    "ax.set_xlabel(r\"$N_\\mathrm{beads}$\")\n",
    "ax.set_ylabel(\"Probability Density\")\n",
    "ax.set_title(f\"Probabiliy Density for a Bin at {test_radius} Angstroms\")\n",
    "plt.savefig(\"Sample_PDF.pdf\")"
   ]
  },
  {
   "cell_type": "code",
   "execution_count": null,
   "metadata": {},
   "outputs": [],
   "source": []
  }
 ],
 "metadata": {
  "kernelspec": {
   "display_name": "jupEnv",
   "language": "python",
   "name": "python3"
  },
  "language_info": {
   "codemirror_mode": {
    "name": "ipython",
    "version": 3
   },
   "file_extension": ".py",
   "mimetype": "text/x-python",
   "name": "python",
   "nbconvert_exporter": "python",
   "pygments_lexer": "ipython3",
   "version": "3.9.16"
  }
 },
 "nbformat": 4,
 "nbformat_minor": 2
}
