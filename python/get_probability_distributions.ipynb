{
 "cells": [
  {
   "cell_type": "code",
   "execution_count": null,
   "metadata": {},
   "outputs": [],
   "source": [
    "import numpy as np\n",
    "import matplotlib.pyplot as plt\n",
    "from pathlib import Path\n",
    "from polarDensity_helper import Coord_Get, get_header_info\n",
    "from site_distributions import make_simple_site, combine_sites, plot_density"
   ]
  },
  {
   "cell_type": "code",
   "execution_count": null,
   "metadata": {},
   "outputs": [],
   "source": [
    "lipid = \"POPG\"\n",
    "leaf = \"upp\"\n",
    "data_root = Path(\"/Users/ezry/Projects/ELIC_PE_PG/trajectory_version/\")\n",
    "fpath = data_root.joinpath(f\"{lipid}.dat.{leaf}.dat\")"
   ]
  },
  {
   "cell_type": "code",
   "execution_count": null,
   "metadata": {},
   "outputs": [],
   "source": [
    "num_mol,avg_A,beads,exrho,avg_chain = get_header_info(fpath)\n",
    "the_data = np.loadtxt(fpath, skiprows=1)\n",
    "rad, dr, dth, theta, radius, frames, Ntheta = Coord_Get(fpath)"
   ]
  },
  {
   "cell_type": "code",
   "execution_count": null,
   "metadata": {},
   "outputs": [],
   "source": [
    "onebin = make_simple_site(the_data, 25, 30, 1, Ntheta, dr, dth, exrho, frames, [29], f\"M4 site, one bin\")\n",
    "onebin_symmetric = make_simple_site(the_data, 25, 30, 1, Ntheta, dr, dth, exrho, frames, np.arange(5,30,6), \"M4 site, one bin, symmetric sites\")\n",
    "fourbins = make_simple_site(the_data, 25, 35, 2, Ntheta, dr, dth, exrho, frames, np.arange(28,30,1), \"M4 site, four bins\")\n",
    "\n",
    "symmetricA = make_simple_site(the_data, 25, 35, 1, Ntheta, dr, dth, exrho, frames, np.arange(5,30,6), \"M4 site, four bins\")\n",
    "symmetricB = make_simple_site(the_data, 25, 35, 1, Ntheta, dr, dth, exrho, frames, np.arange(4,30,6), \"M4 site, four bins\")\n",
    "fourbins_symmetric = combine_sites([symmetricA, symmetricB], exrho, \"Four bins, symmetric\")\n",
    "\n",
    "extrabin = make_simple_site(the_data, 20, 25, 1, Ntheta, dr, dth, exrho, frames, [28])\n",
    "fivebins = combine_sites([extrabin, fourbins], exrho, \"Five bins\")\n",
    "\n",
    "symmetricextra = make_simple_site(the_data, 20, 25, 1, Ntheta, dr, dth, exrho, frames, np.arange(4,30,6))\n",
    "fivebins_symmetric = combine_sites([symmetricA, symmetricB, symmetricextra], exrho, \"Five bins, symmetric\")"
   ]
  },
  {
   "cell_type": "code",
   "execution_count": null,
   "metadata": {},
   "outputs": [],
   "source": [
    "fig, axes = plt.subplots(3,2, figsize=(15,15))\n",
    "onebin.Npeak = 1\n",
    "onebin_symmetric.Npeak =1\n",
    "fourbins.Npeak=1\n",
    "fourbins_symmetric.Npeak=1\n",
    "fivebins.Npeak=1\n",
    "fivebins_symmetric.Npeak=1\n",
    "axes[0,0] = plot_density(onebin, axes[0,0])\n",
    "axes[0,1] = plot_density(onebin_symmetric, axes[0,1])\n",
    "axes[1,0] = plot_density(fourbins, axes[1,0])\n",
    "axes[1,1] = plot_density(fourbins_symmetric, axes[1,1])\n",
    "axes[2,0] = plot_density(fivebins, axes[2,0])\n",
    "axes[2,1] = plot_density(fivebins_symmetric, axes[2,1])\n",
    "\n",
    "plt.savefig(data_root.joinpath(f\"All_Site_Definitions.pdf\"))"
   ]
  },
  {
   "cell_type": "code",
   "execution_count": null,
   "metadata": {},
   "outputs": [],
   "source": []
  },
  {
   "cell_type": "code",
   "execution_count": null,
   "metadata": {},
   "outputs": [],
   "source": []
  }
 ],
 "metadata": {
  "kernelspec": {
   "display_name": "jupEnv",
   "language": "python",
   "name": "python3"
  },
  "language_info": {
   "codemirror_mode": {
    "name": "ipython",
    "version": 3
   },
   "file_extension": ".py",
   "mimetype": "text/x-python",
   "name": "python",
   "nbconvert_exporter": "python",
   "pygments_lexer": "ipython3",
   "version": "3.9.12"
  }
 },
 "nbformat": 4,
 "nbformat_minor": 2
}
