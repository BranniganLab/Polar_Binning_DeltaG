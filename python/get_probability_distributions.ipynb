{
 "cells": [
  {
   "cell_type": "code",
   "execution_count": null,
   "metadata": {},
   "outputs": [],
   "source": [
    "import numpy as np\n",
    "import pandas as pd\n",
    "import matplotlib.pyplot as plt\n",
    "from pathlib import Path\n",
    "from polarDensity_helper import Coord_Get, get_header_info\n",
    "from dataclasses import dataclass"
   ]
  },
  {
   "cell_type": "code",
   "execution_count": null,
   "metadata": {},
   "outputs": [],
   "source": [
    "@dataclass\n",
    "class Site:\n",
    "    inner_r: float=0\n",
    "    outer_r: float=0\n",
    "    thetabins: int=0\n",
    "    title: str=\"\"\n",
    "    counts: list=None\n",
    "    area: float=0\n",
    "    densities: list=None\n",
    "    Npeak: float=0\n",
    "    mean: float=0\n"
   ]
  },
  {
   "cell_type": "code",
   "execution_count": null,
   "metadata": {},
   "outputs": [],
   "source": [
    "def get_shell(some_data, site:Site, frames, Ntheta, dr):\n",
    "    mask = np.logical_and(some_data[:,0] >= site.inner_r, some_data[:,1] <= site.outer_r)\n",
    "    meta_shell = some_data[mask, 3:-1]\n",
    "    nshells = (site.outer_r-site.inner_r)/dr\n",
    "    assert nshells == int(nshells), \"Error: non-integer number of shells\"\n",
    "    reshaped = np.reshape(meta_shell, (int(nshells),frames, Ntheta))\n",
    "    flattened = np.sum(reshaped, axis=0)\n",
    "    return flattened\n",
    "\n",
    "def plot_density(site:Site, ax):\n",
    "    dG = get_dg(site)\n",
    "\n",
    "    ax.vlines(site.Npeak, 0, np.max(site.densities), color='k', linestyles='dashed', label=\"expected mean\")\n",
    "    ax.vlines(site.mean, 0, np.max(site.densities), color='red', linestyles='solid', label=\"actual mean\")\n",
    "    ax.plot(np.arange(len(site.densities)), site.densities, label=r\"$\\Delta G =$\"+f\"{np.round(dG,2)}kcal/mol\")\n",
    "\n",
    "    ax.legend()\n",
    "    ax.set_xlabel(r\"$N_\\mathrm{beads}$\")\n",
    "    ax.set_ylabel(\"Probability Density\")\n",
    "    ax.set_title(site.title)\n",
    "\n",
    "    return ax\n",
    "\n",
    "def get_site_stats(site, exrho):\n",
    "    new_site = site\n",
    "    frequencies = np.bincount(site.counts.astype(int).flatten())\n",
    "    new_site.densities = frequencies/np.sum(frequencies)\n",
    "    \n",
    "    new_site.Npeak = exrho*site.area\n",
    "    new_site.mean = np.mean(site.counts)\n",
    "    return new_site\n",
    "\n",
    "def get_area(site:Site, dth):\n",
    "    return np.mean([site.inner_r, site.outer_r])*(site.outer_r-site.inner_r)*dth*site.thetabins\n",
    "\n",
    "def get_dg(site, RT= 0.6427483):\n",
    "    p_lessthan = np.sum(site.densities[:int(site.Npeak)])\n",
    "    p_greaterthan = np.sum(site.densities[int(site.Npeak):])\n",
    "    dG = -RT*np.log(p_greaterthan/p_lessthan)\n",
    "    return dG"
   ]
  },
  {
   "cell_type": "code",
   "execution_count": null,
   "metadata": {},
   "outputs": [],
   "source": [
    "lipid = \"POPG\"\n",
    "leaf = \"upp\"\n",
    "data_root = Path(\"/Users/ezry/Projects/ELIC_PE_PG/trajectory_version/\")\n",
    "fpath = data_root.joinpath(f\"{lipid}.dat.{leaf}.dat\")"
   ]
  },
  {
   "cell_type": "code",
   "execution_count": null,
   "metadata": {},
   "outputs": [],
   "source": [
    "num_mol,avg_A,beads,exrho,avg_chain = get_header_info(fpath)\n",
    "the_data = np.loadtxt(fpath, skiprows=1)\n",
    "rad, dr, dth, theta, radius, frames, Ntheta = Coord_Get(fpath)\n"
   ]
  },
  {
   "cell_type": "code",
   "execution_count": null,
   "metadata": {},
   "outputs": [],
   "source": [
    "def make_simple_site(inner_r, outer_r, nth, Ntheta, dr, dth, exrho, the_thetas, title=\"\"):\n",
    "    the_site = Site(inner_r, outer_r, nth, title)\n",
    "\n",
    "    tmp_shell = get_shell(the_data, the_site, frames, Ntheta, dr)\n",
    "    the_site.counts = tmp_shell[:,the_thetas]\n",
    "    if nth > 1:\n",
    "        the_site.counts = np.sum(the_site.counts, axis=-1)\n",
    "    the_site.area = get_area(the_site, dth)\n",
    "    the_site = get_site_stats(the_site, exrho)\n",
    "\n",
    "    return the_site"
   ]
  },
  {
   "cell_type": "code",
   "execution_count": null,
   "metadata": {},
   "outputs": [],
   "source": [
    "def combine_sites(list_of_sites, exrho, newtitle=\"composite site\"):\n",
    "    new_site = Site()\n",
    "    new_site.counts = np.zeros_like(list_of_sites[0].counts)\n",
    "    for site in list_of_sites:\n",
    "        new_site.inner_r = new_site.inner_r + site.inner_r\n",
    "        new_site.outer_r = new_site.outer_r + site.outer_r\n",
    "        new_site.counts = new_site.counts + site.counts\n",
    "        new_site.area = new_site.area + site.area\n",
    "        \n",
    "    new_site = get_site_stats(new_site, exrho)\n",
    "    new_site.title = newtitle\n",
    "\n",
    "    return new_site\n"
   ]
  },
  {
   "cell_type": "code",
   "execution_count": null,
   "metadata": {},
   "outputs": [],
   "source": [
    "onebin = make_simple_site(25, 30, 1, Ntheta, dr, dth, exrho, [29], f\"M4 site, one bin\")\n",
    "onebin_symmetric = make_simple_site(25, 30, 1, Ntheta, dr, dth, exrho, np.arange(5,30,6), \"M4 site, one bin, symmetric sites\")\n",
    "fourbins = make_simple_site(25, 35, 2, Ntheta, dr, dth, exrho, np.arange(28,30,1), \"M4 site, four bins\")\n",
    "\n",
    "symmetricA = make_simple_site(25, 35, 1, Ntheta, dr, dth, exrho, np.arange(5,30,6), \"M4 site, four bins\")\n",
    "symmetricB = make_simple_site(25, 35, 1, Ntheta, dr, dth, exrho, np.arange(4,30,6), \"M4 site, four bins\")\n",
    "fourbins_symmetric = combine_sites([symmetricA, symmetricB], exrho, \"Four bins, symmetric\")\n",
    "\n",
    "extrabin = make_simple_site(20, 25, 1, Ntheta, dr, dth, exrho, [28])\n",
    "fivebins = combine_sites([extrabin, fourbins], exrho, \"Five bins\")\n",
    "\n",
    "symmetricextra = make_simple_site(20, 25, 1, Ntheta, dr, dth, exrho, np.arange(4,30,6))\n",
    "fivebins_symmetric = combine_sites([symmetricA, symmetricB, symmetricextra], exrho, \"Five bins, symmetric\")"
   ]
  },
  {
   "cell_type": "code",
   "execution_count": null,
   "metadata": {},
   "outputs": [],
   "source": [
    "fig, axes = plt.subplots(3,2, figsize=(15,15))\n",
    "\n",
    "axes[0,0] = plot_density(onebin, axes[0,0])\n",
    "axes[0,1] = plot_density(onebin_symmetric, axes[0,1])\n",
    "axes[1,0] = plot_density(fourbins, axes[1,0])\n",
    "axes[1,1] = plot_density(fourbins_symmetric, axes[1,1])\n",
    "axes[2,0] = plot_density(fivebins, axes[2,0])\n",
    "axes[2,1] = plot_density(fivebins_symmetric, axes[2,1])\n",
    "\n",
    "plt.savefig(f\"All_Site_Definitions.pdf\")"
   ]
  }
 ],
 "metadata": {
  "kernelspec": {
   "display_name": "jupEnv",
   "language": "python",
   "name": "python3"
  },
  "language_info": {
   "codemirror_mode": {
    "name": "ipython",
    "version": 3
   },
   "file_extension": ".py",
   "mimetype": "text/x-python",
   "name": "python",
   "nbconvert_exporter": "python",
   "pygments_lexer": "ipython3",
   "version": "3.9.16"
  }
 },
 "nbformat": 4,
 "nbformat_minor": 2
}
