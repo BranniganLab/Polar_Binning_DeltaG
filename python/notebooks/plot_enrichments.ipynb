{
 "cells": [
  {
   "cell_type": "code",
   "execution_count": null,
   "metadata": {},
   "outputs": [],
   "source": [
    "import numpy as np\n",
    "import pandas as pd\n",
    "import DTA.polarDensity_helper as pc\n",
    "from pathlib import Path\n",
    "import matplotlib.pyplot as plt\n",
    "from DTA.enrichment_plotters import polar_plot, get_file_list, get_helices, read_rep\n",
    "from matplotlib.patches import Rectangle\n",
    "from matplotlib.collections import PatchCollection\n",
    "plt.rcParams['axes.grid'] = False "
   ]
  },
  {
   "cell_type": "markdown",
   "metadata": {},
   "source": [
    "# Important User Settings:"
   ]
  },
  {
   "cell_type": "code",
   "execution_count": null,
   "metadata": {},
   "outputs": [],
   "source": [
    "lipids = [\"POPG\", \"POPE\"]\n",
    "leaflets = ['low', 'upp']\n",
    "root = Path(\"/home/ems363/Projects/ELIC_PE_PG/aggregated/\")\n",
    "replicas = [\"rep1\", \"rep3\", \"liam\"]\n",
    "\n",
    "enrichments = None\n",
    "counts = None\n",
    "helices_upr, helices_lwr = get_helices(root.joinpath(replicas[2]))\n",
    "for rep in replicas:\n",
    "    reppath = root.joinpath(rep)\n",
    "    file_list = get_file_list(reppath, lipids)\n",
    "    assert len(file_list) > 0, \"ERROR: No files found!\"\n",
    "    rad, dr, dth, theta, radius, frames, Ntheta = pc.Coord_Get(file_list[0])\n",
    "    cts, rich = read_rep(file_list, lipids, leaflets, enrich=True)\n",
    "    if counts is None:\n",
    "        counts = cts\n",
    "        enrichments = rich\n",
    "    else:\n",
    "        counts = counts+cts\n",
    "        enrichments = enrichments+rich\n",
    "    \n",
    "\n",
    "counts = counts/len(replicas)\n",
    "enrichments = enrichments/len(replicas)\n",
    "thetas = np.unique(theta.flatten())"
   ]
  },
  {
   "cell_type": "markdown",
   "metadata": {},
   "source": [
    "# Do the plotting"
   ]
  },
  {
   "cell_type": "code",
   "execution_count": null,
   "metadata": {},
   "outputs": [],
   "source": [
    "from matplotlib.colors import ListedColormap\n",
    "depleted = plt.cm.get_cmap('RdGy_r', 256)\n",
    "enriched = plt.cm.get_cmap('seismic', 256)\n",
    "newcolors = np.concatenate([depleted(np.linspace(0.3, 0.5, 128)), enriched(np.linspace(0.5,0.8,128))])\n",
    "my_cmap = ListedColormap(newcolors)"
   ]
  },
  {
   "cell_type": "code",
   "execution_count": null,
   "metadata": {},
   "outputs": [],
   "source": [
    "#enrichments.at['POPE', 'low'][0:1,:]=0\n",
    "fig, axes = polar_plot(enrichments, \n",
    "                       theta, \n",
    "                       radius, \n",
    "                       lipids, \n",
    "                       helices_lwr, \n",
    "                       helices_upr, \n",
    "                       colorbychain=False, \n",
    "                       vmin=0.75, \n",
    "                       vmax=2, \n",
    "                       vmid=1,\n",
    "                       figheight=12,\n",
    "                       figwidth=12,\n",
    "                       cmap=my_cmap)\n",
    "\n",
    "axes[0] = plot_sites(axes[0], thetas, 4, 3, 24, 6)\n",
    "axes[1] = plot_sites(axes[1], thetas, 8, 4, 22, 10)\n",
    "\n",
    "plt.savefig(root.joinpath(\"ELIC_enrichments.pdf\"))\n",
    "plt.show()"
   ]
  },
  {
   "cell_type": "code",
   "execution_count": null,
   "metadata": {},
   "outputs": [],
   "source": []
  },
  {
   "cell_type": "code",
   "execution_count": null,
   "metadata": {},
   "outputs": [],
   "source": []
  }
 ],
 "metadata": {
  "kernelspec": {
   "display_name": "jupEnv",
   "language": "python",
   "name": "python3"
  },
  "language_info": {
   "codemirror_mode": {
    "name": "ipython",
    "version": 3
   },
   "file_extension": ".py",
   "mimetype": "text/x-python",
   "name": "python",
   "nbconvert_exporter": "python",
   "pygments_lexer": "ipython3",
   "version": "3.9.16"
  }
 },
 "nbformat": 4,
 "nbformat_minor": 2
}
