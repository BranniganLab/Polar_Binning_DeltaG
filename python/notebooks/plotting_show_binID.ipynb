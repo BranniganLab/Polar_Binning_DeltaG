{
 "cells": [
  {
   "cell_type": "code",
   "execution_count": null,
   "metadata": {},
   "outputs": [],
   "source": [
    "import numpy as np\n",
    "import pandas as pd\n",
    "import DTA.polarDensity_helper as pc\n",
    "from DTA.enrichment_plotters import polar_plot\n",
    "from pathlib import Path\n",
    "import matplotlib.pyplot as plt\n",
    "import matplotlib.gridspec as gridspec\n",
    "from matplotlib.colors import LogNorm\n",
    "from matplotlib.ticker import LogFormatterExponent\n",
    "plt.rcParams['axes.grid'] = False "
   ]
  },
  {
   "cell_type": "markdown",
   "metadata": {},
   "source": [
    "# Important User Settings:"
   ]
  },
  {
   "cell_type": "code",
   "execution_count": null,
   "metadata": {},
   "outputs": [],
   "source": [
    "root = Path(\"/Users/ezry/Projects/ELIC_PE_PG/liam/trajectory_version\")\n",
    "chains_groups = [\"POPE\", \"POPG\"]\n",
    "lipids = chains_groups"
   ]
  },
  {
   "cell_type": "code",
   "execution_count": null,
   "metadata": {},
   "outputs": [],
   "source": [
    "enrich = True\n",
    "\n",
    "# get files to use\n",
    "\n",
    "file_list = []\n",
    "leaflets = ['low', 'upp']\n",
    "for lip in lipids:\n",
    "    for leaf in leaflets:\n",
    "        toadd = list(root.glob(f\"{lip}.dat.{leaf}.avg.dat\") )\n",
    "        file_list = np.append(file_list,toadd)\n",
    "assert len(file_list) > 0, \"Error, you don't appear to have files that match that path and regex.\""
   ]
  },
  {
   "cell_type": "code",
   "execution_count": null,
   "metadata": {},
   "outputs": [],
   "source": [
    "enrichments = pd.DataFrame(index=chains_groups, columns=leaflets)\n",
    "counts = pd.DataFrame(index=chains_groups, columns=leaflets)\n",
    "myenrichments = pd.DataFrame(index=chains_groups, columns=leaflets)\n",
    "\n",
    "idx = 0\n",
    "for fl in file_list:\n",
    "    if idx == 0:\n",
    "        rad, dr, dth, theta, radius, frames, Ntheta = pc.Coord_Get(fl)\n",
    "        A = (radius * dr * dth)\n",
    "        thetas = np.unique(theta)\n",
    "\n",
    "    filename = fl.name\n",
    "\n",
    "    tmp_chain = filename.split('.')[0]\n",
    "    tmp_nm = filename.split('.')[2]\n",
    "\n",
    "    # This is a hack. The above part does not have a \"flexible\"\n",
    "    # method to consider sim type (a, b ...)\n",
    "    idx+=1\n",
    "    toadd = np.loadtxt(fl, skiprows=1)\n",
    "    toadd = toadd[:,3:-1]\n",
    "    data, num_mol,avg_A,beads,exrho,avg_chain = pc.get_polar_data(fl)\n",
    "    counts.at[tmp_chain,tmp_nm] = toadd\n",
    "    myenrichments.at[tmp_chain,tmp_nm] = (toadd/A)/exrho\n",
    "    enrichments.at[tmp_chain,tmp_nm] = pc._analysis_call_(fl, radius, dr, dth, frames, enrich=enrich)\n"
   ]
  },
  {
   "cell_type": "code",
   "execution_count": null,
   "metadata": {},
   "outputs": [],
   "source": [
    "# Optional helix locations\n",
    "try:\n",
    "    helices_lwr = np.loadtxt(root.joinpath(\"Protein_coords_lwr.dat\"))\n",
    "    helices_upr = np.loadtxt(root.joinpath(\"Protein_coords_upr.dat\"))\n",
    "except FileNotFoundError:\n",
    "    helices_lwr = None\n",
    "    helices_upr = None\n",
    "    print(\"Protein coordinates not found\")"
   ]
  },
  {
   "cell_type": "code",
   "execution_count": null,
   "metadata": {},
   "outputs": [],
   "source": [
    "bins = {1:(range(4,30,6), np.repeat(27.5,5)), \n",
    "        2:(range(5,30,6), np.repeat(27.5,5)),\n",
    "        3:(range(4,30,6), np.repeat(32.5,5)),\n",
    "        4:(range(5,30,6), np.repeat(32.5,5)),\n",
    "        5:(range(4,30,6), np.repeat(22.5,5))}\n",
    "# axes[i].scatter(thetas[2], np.repeat(27.5,1), color=color, marker=\"x\", linewidth=7)\n",
    "# axes[i].scatter(thetas[bins[1][0]], bins[1][1], color=color, marker=\"x\", linewidth=7)\n",
    "# #axes[i].scatter(thetas[4:30:6], np.repeat(32.5,5), color=color, marker=\"x\", linewidth=7)\n",
    "# #axes[i].scatter(thetas[5:30:6], np.repeat(32.5,5), color=color, marker=\"x\", linewidth=7)\n",
    "# #axes[i].scatter(thetas[4:30:6], np.repeat(22.5,5), color=color, marker=\"x\", linewidth=7)"
   ]
  },
  {
   "cell_type": "code",
   "execution_count": null,
   "metadata": {},
   "outputs": [],
   "source": [
    "fig, axes = polar_plot(enrichments, theta, radius, chains_groups, helices_lwr=helices_lwr, helices_upr=helices_upr, colorbychain=True, vmin=0, vmax=2, vmid=1)\n",
    "for i in range(len(axes)):\n",
    "    if i == 2:\n",
    "        color = \"lime\"\n",
    "    else:\n",
    "        color = \"purple\"\n",
    "    for bin in bins.values():\n",
    "        axes[i].scatter(thetas[bin[0]], bin[1], color=color, marker=\"x\", linewidth=7)\n",
    "\n",
    "plt.savefig(root.joinpath(\"enrichments.pdf\"))\n",
    "plt.show()"
   ]
  },
  {
   "cell_type": "code",
   "execution_count": null,
   "metadata": {},
   "outputs": [],
   "source": []
  }
 ],
 "metadata": {
  "kernelspec": {
   "display_name": "jupEnv",
   "language": "python",
   "name": "python3"
  },
  "language_info": {
   "codemirror_mode": {
    "name": "ipython",
    "version": 3
   },
   "file_extension": ".py",
   "mimetype": "text/x-python",
   "name": "python",
   "nbconvert_exporter": "python",
   "pygments_lexer": "ipython3",
   "version": "3.9.16"
  }
 },
 "nbformat": 4,
 "nbformat_minor": 2
}
