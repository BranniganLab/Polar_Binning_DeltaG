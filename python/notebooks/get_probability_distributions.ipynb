{
 "cells": [
  {
   "cell_type": "code",
   "execution_count": null,
   "metadata": {},
   "outputs": [],
   "source": [
    "import numpy as np\n",
    "import matplotlib.pyplot as plt\n",
    "from pathlib import Path\n",
    "import pandas as pd\n",
    "from polarDensity_helper import Coord_Get, get_header_info\n",
    "from site_distributions import make_simple_site, combine_sites, plot_density, make_symmetric_sites"
   ]
  },
  {
   "cell_type": "code",
   "execution_count": null,
   "metadata": {},
   "outputs": [],
   "source": [
    "root = Path(\"/home/ems363/Projects/ELIC_PE_PG/aggregated\")\n",
    "replicas = [\"liam/N50\", \"rep1/N50\", \"rep3\"]\n",
    "lipid = \"POPG\""
   ]
  },
  {
   "cell_type": "code",
   "execution_count": null,
   "metadata": {},
   "outputs": [],
   "source": [
    "leaf = \"upp\"\n",
    "MB =11\n",
    "AB = 0\n",
    "EB = 2\n",
    "fig, axes = plt.subplots(3,5, figsize=(15,10), sharex=True, sharey=True)\n",
    "axis = 0\n",
    "p_occ = pd.DataFrame(columns=[\"AB\", \"MB\", \"EB\"], index=np.arange(0,14))\n",
    "for rep in replicas:\n",
    "    data_root = root.joinpath(rep)\n",
    "    fpath = data_root.joinpath(f\"{lipid}.{leaf}.dat\")\n",
    "\n",
    "    num_mol,avg_A,beads,exrho,avg_chain = get_header_info(fpath)\n",
    "    the_data = np.loadtxt(fpath, skiprows=1)\n",
    "    rad, dr, dth, theta, radius, frames, Ntheta = Coord_Get(fpath)\n",
    "\n",
    "    try:\n",
    "        cheng_sites = make_symmetric_sites(the_data, 4, 3, 24, 30, Ntheta, dr, dth, exrho, frames, sitename=\"Cheng Site \")\n",
    "    except:\n",
    "        print(f\"Error on rep {rep}\")\n",
    "    #cheng_site_symmetric = combine_sites(cheng_sites, exrho, \"Cheng Sites, Symmetric\", symmetric=True)\n",
    "    #cheng_sites.append(cheng_site_symmetric)\n",
    "    for site in cheng_sites:\n",
    "        site.Npeak = 0\n",
    "        site.expPunocc = 0.302\n",
    "\n",
    "    for site, ax, idx in zip(cheng_sites, axes.flatten()[axis:], np.arange(0,5)):\n",
    "        p_occ.at[idx+axis, \"AB\"] = np.sum(site.densities[AB+1:])\n",
    "        p_occ.at[idx+axis, \"MB\"] = np.sum(site.densities[MB+1:])\n",
    "        p_occ.at[idx+axis, \"EB\"] = np.sum(site.densities[EB+1:])\n",
    "        ax = plot_density(site, ax)\n",
    "\n",
    "    axis+=len(cheng_sites)\n",
    " \n",
    "fig.tight_layout()\n",
    "plt.savefig(data_root.joinpath(f\"Cheng_sites.pdf\"))"
   ]
  },
  {
   "cell_type": "code",
   "execution_count": null,
   "metadata": {},
   "outputs": [],
   "source": [
    "np.average(p_occ, axis=0)"
   ]
  },
  {
   "cell_type": "code",
   "execution_count": null,
   "metadata": {},
   "outputs": [],
   "source": [
    "np.std(p_occ, axis=0)/np.sqrt(15)"
   ]
  },
  {
   "cell_type": "code",
   "execution_count": null,
   "metadata": {},
   "outputs": [],
   "source": [
    "leaf = \"upp\"\n",
    "lipid=\"POPG\"\n",
    "fig, ax = plt.subplots(1,1, figsize=(5,5))\n",
    "for rep in replicas:\n",
    "    data_root = root.joinpath(rep)\n",
    "    fpath = data_root.joinpath(f\"{lipid}.{leaf}.dat\")\n",
    "\n",
    "    num_mol,avg_A,beads,exrho,avg_chain = get_header_info(fpath)\n",
    "    the_data = np.loadtxt(fpath, skiprows=1)\n",
    "    rad, dr, dth, theta, radius, frames, Ntheta = Coord_Get(fpath)\n",
    "\n",
    "    cheng_sites = make_symmetric_sites(the_data, 4, 3, 24, 30, Ntheta, dr, dth, exrho, frames, sitename=\"Cheng Site \")\n",
    "    #cheng_site_symmetric = combine_sites(cheng_sites, exrho, \"Cheng Sites, Symmetric\", symmetric=True)\n",
    "    #cheng_sites.append(cheng_site_symmetric)\n",
    "    for site in cheng_sites:\n",
    "        site.Npeak = 0\n",
    "        site.expPunocc = 0.302\n",
    "\n",
    "    dummy_site = cheng_sites[0]\n",
    "    dummy_site.title=f\"average over sites, {lipid}, {leaf}er leaflet, Cheng site\"\n",
    "    temp = [site.densities for site in cheng_sites]\n",
    "    densities = [np.pad(dens, (0,18-len(dens))) for dens in temp]\n",
    "    dummy_site.densities = np.average(densities, axis=0)\n",
    "\n",
    "    ax = plot_density(dummy_site, ax)\n",
    "\n",
    "plt.savefig(root.joinpath(f\"Cheng_sites_averaged_{lipid}.pdf\"))"
   ]
  },
  {
   "cell_type": "code",
   "execution_count": null,
   "metadata": {},
   "outputs": [],
   "source": []
  },
  {
   "cell_type": "code",
   "execution_count": null,
   "metadata": {},
   "outputs": [],
   "source": []
  },
  {
   "cell_type": "code",
   "execution_count": null,
   "metadata": {},
   "outputs": [],
   "source": [
    "leaf = \"low\"\n",
    "MB =11\n",
    "AB = 0\n",
    "EB = 0\n",
    "fig, axes = plt.subplots(3,5, figsize=(15,10), sharex=True, sharey=True)\n",
    "axis = 0\n",
    "p_occ = pd.DataFrame(columns=[\"AB\", \"MB\", \"EB\"], index=np.arange(0,14))\n",
    "for rep in replicas:\n",
    "    data_root = root.joinpath(rep)\n",
    "    fpath = data_root.joinpath(f\"{lipid}.{leaf}.dat\")\n",
    "\n",
    "    num_mol,avg_A,beads,exrho,avg_chain = get_header_info(fpath)\n",
    "    the_data = np.loadtxt(fpath, skiprows=1)\n",
    "    rad, dr, dth, theta, radius, frames, Ntheta = Coord_Get(fpath)\n",
    "\n",
    "    try:\n",
    "        ulens_sites = make_symmetric_sites(the_data, 9, 4, 22, 32, Ntheta, dr, dth, exrho, frames, sitename=\"Ulens Site \")\n",
    "    except:\n",
    "        print(f\"Error on rep {rep}\")\n",
    "    #ulens_sites.append(ulens_site_symmetric)\n",
    "    for site in ulens_sites:\n",
    "        site.Npeak=0\n",
    "        site.expPunocc = 0.187\n",
    "\n",
    "    for site, ax, idx in zip(ulens_sites, axes.flatten()[axis:], np.arange(0,5)):\n",
    "        p_occ.at[idx+axis, \"AB\"] = np.sum(site.densities[AB+1:])\n",
    "        p_occ.at[idx+axis, \"MB\"] = np.sum(site.densities[MB+1:])\n",
    "        p_occ.at[idx+axis, \"EB\"] = np.sum(site.densities[EB+1:])\n",
    "        ax = plot_density(site, ax)\n",
    "\n",
    "    axis+=len(cheng_sites)\n",
    " \n",
    "fig.tight_layout()\n",
    "plt.savefig(data_root.joinpath(f\"Ulens_sites.pdf\"))"
   ]
  },
  {
   "cell_type": "code",
   "execution_count": null,
   "metadata": {},
   "outputs": [],
   "source": [
    "np.average(p_occ, axis=0)"
   ]
  },
  {
   "cell_type": "code",
   "execution_count": null,
   "metadata": {},
   "outputs": [],
   "source": [
    "np.std(p_occ, axis=0)/np.sqrt(15)"
   ]
  },
  {
   "cell_type": "code",
   "execution_count": null,
   "metadata": {},
   "outputs": [],
   "source": [
    "# leaf = \"low\"\n",
    "# lipid = \"POPG\"\n",
    "# for rep in replicas:\n",
    "#     data_root = root.joinpath(rep)\n",
    "#     fpath = data_root.joinpath(f\"{lipid}.dat.{leaf}.dat\")\n",
    "\n",
    "#     num_mol,avg_A,beads,exrho,avg_chain = get_header_info(fpath)\n",
    "#     the_data = np.loadtxt(fpath, skiprows=1)\n",
    "#     rad, dr, dth, theta, radius, frames, Ntheta = Coord_Get(fpath)\n",
    "\n",
    "#     ulens_sites = make_symmetric_sites(the_data, 9, 4, 22, 32, Ntheta, dr, dth, exrho, frames, sitename=\"Ulens Site \")\n",
    "#     #ulens_site_symmetric = combine_sites(ulens_sites, exrho, \"Ulens Sites, Symmetric\", symmetric=True)\n",
    "#     #ulens_sites.append(ulens_site_symmetric)\n",
    "#     for site in ulens_sites:\n",
    "#         site.Npeak=0\n",
    "#         site.expPunocc = 0.187\n",
    "\n",
    "#     fig, axes = plt.subplots(3,2, figsize=(15,15))\n",
    "#     for site, ax in zip(ulens_sites, axes.flatten()):\n",
    "#         ax = plot_density(site, ax)\n",
    "\n",
    "#     plt.savefig(data_root.joinpath(f\"Ulens_sites.pdf\"))"
   ]
  },
  {
   "cell_type": "code",
   "execution_count": null,
   "metadata": {},
   "outputs": [],
   "source": [
    "# leaf = \"low\"\n",
    "# for rep in replicas:\n",
    "#     data_root = root.joinpath(rep)\n",
    "#     fpath = data_root.joinpath(f\"{lipid}.dat.{leaf}.dat\")\n",
    "\n",
    "#     num_mol,avg_A,beads,exrho,avg_chain = get_header_info(fpath)\n",
    "#     the_data = np.loadtxt(fpath, skiprows=1)\n",
    "#     rad, dr, dth, theta, radius, frames, Ntheta = Coord_Get(fpath)\n",
    "\n",
    "#     ulens_sites = make_symmetric_sites(the_data, 9, 4, 22, 32, Ntheta, dr, dth, exrho, frames, sitename=\"Ulens Site \")\n",
    "#     ulens_sites.append(ulens_site_symmetric)\n",
    "#     for site in ulens_sites:\n",
    "#         site.Npeak=0\n",
    "#         site.expPunocc = 0.187\n",
    "\n",
    "#     dummy_site = ulens_sites[0]\n",
    "#     dummy_site.title=\"average over sites\"\n",
    "#     temp = [site.densities for site in ulens_sites]\n",
    "#     densities = [np.pad(dens, (0,50-len(dens))) for dens in temp]\n",
    "#     dummy_site.densities = np.average(densities, axis=0)\n",
    "\n",
    "#     fig, ax = plt.subplots(1,1, figsize=(10,10))\n",
    "#     ax = plot_density(dummy_site, ax)\n",
    "\n",
    "#     plt.savefig(data_root.joinpath(f\"Ulens_sites_averaged.pdf\"))"
   ]
  },
  {
   "cell_type": "code",
   "execution_count": null,
   "metadata": {},
   "outputs": [],
   "source": [
    "leaf = \"low\"\n",
    "lipid = \"POPG\"\n",
    "fig, ax = plt.subplots(1,1, figsize=(5,5))\n",
    "for rep in replicas:\n",
    "    data_root = root.joinpath(rep)\n",
    "    fpath = data_root.joinpath(f\"{lipid}.dat.{leaf}.dat\")\n",
    "\n",
    "    num_mol,avg_A,beads,exrho,avg_chain = get_header_info(fpath)\n",
    "    the_data = np.loadtxt(fpath, skiprows=1)\n",
    "    rad, dr, dth, theta, radius, frames, Ntheta = Coord_Get(fpath)\n",
    "\n",
    "    ulens_sites = make_symmetric_sites(the_data, 9, 4, 22, 32, Ntheta, dr, dth, exrho, frames, sitename=\"Ulens Site \")\n",
    "    #ulens_sites.append(ulens_site_symmetric)\n",
    "    for site in ulens_sites:\n",
    "        site.Npeak=0\n",
    "        site.expPunocc = 0.187\n",
    "\n",
    "    dummy_site = ulens_sites[0]\n",
    "    dummy_site.title=\"average over sites\"\n",
    "    temp = [site.densities for site in ulens_sites]\n",
    "    densities = [np.pad(dens, (0,30-len(dens))) for dens in temp]\n",
    "    dummy_site.densities = np.average(densities, axis=0)\n",
    "\n",
    "    ax = plot_density(dummy_site, ax)\n",
    "\n",
    "plt.savefig(root.joinpath(f\"Ulens_sites_averaged_{lipid}.pdf\"))"
   ]
  },
  {
   "cell_type": "code",
   "execution_count": null,
   "metadata": {},
   "outputs": [],
   "source": []
  }
 ],
 "metadata": {
  "kernelspec": {
   "display_name": "jupEnv",
   "language": "python",
   "name": "python3"
  },
  "language_info": {
   "codemirror_mode": {
    "name": "ipython",
    "version": 3
   },
   "file_extension": ".py",
   "mimetype": "text/x-python",
   "name": "python",
   "nbconvert_exporter": "python",
   "pygments_lexer": "ipython3",
   "version": "3.9.12"
  }
 },
 "nbformat": 4,
 "nbformat_minor": 2
}
