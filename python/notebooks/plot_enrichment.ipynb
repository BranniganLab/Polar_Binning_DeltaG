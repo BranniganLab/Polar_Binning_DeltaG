{
 "cells": [
  {
   "cell_type": "code",
   "execution_count": null,
   "metadata": {},
   "outputs": [],
   "source": [
    "import numpy as np\n",
    "import pandas as pd\n",
    "import polarDensity_helper as pc\n",
    "from pathlib import Path\n",
    "import matplotlib.pyplot as plt\n",
    "import matplotlib.gridspec as gridspec\n",
    "from matplotlib.colors import LogNorm\n",
    "from matplotlib.ticker import LogFormatterExponent\n",
    "plt.rcParams['axes.grid'] = False "
   ]
  },
  {
   "cell_type": "markdown",
   "metadata": {},
   "source": [
    "# Important User Settings:"
   ]
  },
  {
   "cell_type": "code",
   "execution_count": null,
   "metadata": {},
   "outputs": [],
   "source": [
    "# root = Path(\"/home/ems363/Projects/ELIC_PE_PG/trajectory_version\")\n",
    "# chains_groups = [\"POPE\", \"POPG\"]\n",
    "#root = Path(\"/home/ems363/Projects/ELIC_PE_PG/aggregated/\")\n",
    "root = Path(\"/home/ems363/Projects/ELIC_PE_PG/aggregated/liam/\")\n",
    "#root = Path(\"/home/ems363/Projects/ELIC_PE_PG/liam/trajectory_version/\")\n",
    "chains_groups = [\"POPG\", \"POPE\"]\n",
    "lipids = chains_groups"
   ]
  },
  {
   "cell_type": "code",
   "execution_count": null,
   "metadata": {},
   "outputs": [],
   "source": [
    "enrich = True\n",
    "\n",
    "# get files to use\n",
    "\n",
    "file_list = []\n",
    "for lip in lipids:\n",
    "    toadd = list(root.glob(f\"{lip}.dat*avg.dat\") )\n",
    "    file_list = np.append(file_list,toadd)\n",
    "\n",
    "leaflets = ['low', 'upp']"
   ]
  },
  {
   "cell_type": "code",
   "execution_count": null,
   "metadata": {},
   "outputs": [],
   "source": [
    "enrichments = pd.DataFrame(index=chains_groups, columns=leaflets)\n",
    "counts = pd.DataFrame(index=chains_groups, columns=leaflets)\n",
    "\n",
    "idx = 0\n",
    "for fl in file_list:\n",
    "    if idx == 0:\n",
    "        rad, dr, dth, theta, radius, frames, Ntheta = pc.Coord_Get(fl)\n",
    "\n",
    "    filename = fl.name\n",
    "\n",
    "    tmp_chain = filename.split('.')[0]\n",
    "    tmp_nm = filename.split('.')[2]\n",
    "\n",
    "    # This is a hack. The above part does not have a \"flexible\"\n",
    "    # method to consider sim type (a, b ...)\n",
    "    idx+=1\n",
    "    toadd = np.loadtxt(fl, skiprows=1)\n",
    "    toadd = toadd[:,3:-1]\n",
    "    counts.at[tmp_chain,tmp_nm] = toadd\n",
    "    enrichments.at[tmp_chain,tmp_nm] = pc._analysis_call_(fl, radius, dr, dth, frames, enrich=enrich)\n",
    "\n",
    "# Optional helix locations\n",
    "try:\n",
    "    helices_lwr = np.loadtxt(root.joinpath(\"Protein_coords_lwr.dat\"))\n",
    "    helices_upr = np.loadtxt(root.joinpath(\"Protein_coords_upr.dat\"))\n",
    "except FileNotFoundError:\n",
    "    helices_lwr = None\n",
    "    helices_upr = None\n",
    "    print(\"Protein coordinates not found\")"
   ]
  },
  {
   "cell_type": "code",
   "execution_count": null,
   "metadata": {},
   "outputs": [],
   "source": [
    "thetas = np.unique(theta.flatten())"
   ]
  },
  {
   "cell_type": "code",
   "execution_count": null,
   "metadata": {},
   "outputs": [],
   "source": [
    "bins = {1:(range(4,30,6), np.repeat(27.5,5)), \n",
    "        2:(range(5,30,6), np.repeat(27.5,5)),\n",
    "        3:(range(4,30,6), np.repeat(32.5,5)),\n",
    "        4:(range(5,30,6), np.repeat(32.5,5)),\n",
    "        5:(range(4,30,6), np.repeat(22.5,5))}"
   ]
  },
  {
   "cell_type": "code",
   "execution_count": null,
   "metadata": {},
   "outputs": [],
   "source": [
    "from matplotlib.colors import ListedColormap\n",
    "depleted = plt.cm.get_cmap('RdGy_r', 256)\n",
    "enriched = plt.cm.get_cmap('bwr_r', 256)\n",
    "newcolors = depleted(np.linspace(0, 1, 256))\n",
    "newcolors[128:] = enriched(np.linspace(0.5,1,128))\n",
    "my_cmap = ListedColormap(newcolors)"
   ]
  },
  {
   "cell_type": "code",
   "execution_count": null,
   "metadata": {},
   "outputs": [],
   "source": [
    "from matplotlib.colors import ListedColormap\n",
    "depleted = plt.cm.get_cmap('PiYG', 256)\n",
    "enriched = plt.cm.get_cmap('bwr_r', 256)\n",
    "newcolors = np.concatenate([depleted(np.linspace(0.4, 0.5, 128)), enriched(np.linspace(0.5,1,128))])\n",
    "my_cmap = ListedColormap(newcolors)"
   ]
  },
  {
   "cell_type": "code",
   "execution_count": null,
   "metadata": {},
   "outputs": [],
   "source": [
    "\n",
    "enrichments.at['POPE', 'low'][0:1,:]=0\n",
    "fig, axes = polar_plot(enrichments, \n",
    "                       theta, \n",
    "                       radius, \n",
    "                       chains_groups, \n",
    "                       helices_lwr, \n",
    "                       helices_upr, \n",
    "                       colorbychain=False, \n",
    "                       vmin=0.75, \n",
    "                       vmax=1.5, \n",
    "                       vmid=1,\n",
    "                       figheight=8,\n",
    "                       figwidth=8,\n",
    "                       cmap=my_cmap)\n",
    "fig.tight_layout()\n",
    "plt.savefig(root.joinpath(\"ELIC_enrichments.pdf\"))\n",
    "plt.show()"
   ]
  },
  {
   "cell_type": "code",
   "execution_count": null,
   "metadata": {},
   "outputs": [],
   "source": []
  }
 ],
 "metadata": {
  "kernelspec": {
   "display_name": "jupEnv",
   "language": "python",
   "name": "python3"
  },
  "language_info": {
   "codemirror_mode": {
    "name": "ipython",
    "version": 3
   },
   "file_extension": ".py",
   "mimetype": "text/x-python",
   "name": "python",
   "nbconvert_exporter": "python",
   "pygments_lexer": "ipython3",
   "version": "3.9.12"
  }
 },
 "nbformat": 4,
 "nbformat_minor": 2
}
