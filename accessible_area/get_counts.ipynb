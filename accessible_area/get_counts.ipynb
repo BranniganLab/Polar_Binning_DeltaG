{
 "cells": [
  {
   "cell_type": "code",
   "execution_count": null,
   "metadata": {},
   "outputs": [],
   "source": [
    "import MDAnalysis as mda\n",
    "from pathlib import Path\n",
    "\n",
    "import numpy as np\n",
    "from get_counts_helpers import get_counts"
   ]
  },
  {
   "cell_type": "code",
   "execution_count": null,
   "metadata": {},
   "outputs": [],
   "source": [
    "fpath = Path(\"/Users/ezry/Projects/ELIC_DPPC/DPPC/\")\n",
    "xtc = str(fpath.joinpath(\"wholereduced.xtc\"))\n",
    "gro = str(fpath.joinpath(\"md.gro\"))"
   ]
  },
  {
   "cell_type": "code",
   "execution_count": null,
   "metadata": {},
   "outputs": [],
   "source": [
    "membrane = mda.Universe(gro, xtc)\n",
    "all_dppc = membrane.select_atoms('resname DPPC')\n",
    "upper = all_dppc.select_atoms('prop resid <= 1521')\n",
    "lower = all_dppc.select_atoms('prop resid > 1521')\n",
    "water = membrane.select_atoms('resname W')\n",
    "assert len(upper)==len(lower), \"Warning: asymmetric membrane detected\""
   ]
  },
  {
   "cell_type": "code",
   "execution_count": null,
   "metadata": {},
   "outputs": [],
   "source": [
    "areas = np.arange(20,151,10)\n",
    "widths = np.sqrt(areas)"
   ]
  },
  {
   "cell_type": "code",
   "execution_count": null,
   "metadata": {},
   "outputs": [],
   "source": [
    "for width in :\n",
    "    membrane.trajectory.rewind()\n",
    "    all_counts = get_counts(membrane, width)\n",
    "    area = int(width**2)\n",
    "    np.savetxt(f\"counts_{area}.dat\",all_counts.flatten())\n",
    "    #animate_counts(all_counts, f\"counts_{area}.mp4\")"
   ]
  }
 ],
 "metadata": {
  "kernelspec": {
   "display_name": "jupEnv",
   "language": "python",
   "name": "python3"
  },
  "language_info": {
   "codemirror_mode": {
    "name": "ipython",
    "version": 3
   },
   "file_extension": ".py",
   "mimetype": "text/x-python",
   "name": "python",
   "nbconvert_exporter": "python",
   "pygments_lexer": "ipython3",
   "version": "3.9.16"
  }
 },
 "nbformat": 4,
 "nbformat_minor": 2
}
