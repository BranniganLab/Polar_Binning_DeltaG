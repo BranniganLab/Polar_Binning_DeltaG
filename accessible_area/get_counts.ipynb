{
 "cells": [
  {
   "cell_type": "code",
   "execution_count": null,
   "metadata": {},
   "outputs": [],
   "source": [
    "import MDAnalysis as mda\n",
    "from pathlib import Path\n",
    "import numpy as np\n",
    "import matplotlib as mpl\n",
    "import matplotlib.pyplot as plt\n",
    "\n",
    "import matplotlib.animation as animation\n",
    "import nglview as nv"
   ]
  },
  {
   "cell_type": "code",
   "execution_count": null,
   "metadata": {},
   "outputs": [],
   "source": [
    "fpath = Path(\"/Users/ezry/Projects/ELIC_DPPC/DPPC/\")\n",
    "xtc = str(fpath.joinpath(\"wholereduced.xtc\"))\n",
    "gro = str(fpath.joinpath(\"md.gro\"))"
   ]
  },
  {
   "cell_type": "code",
   "execution_count": null,
   "metadata": {},
   "outputs": [],
   "source": [
    "membrane = mda.Universe(gro, xtc)\n",
    "all_dppc = membrane.select_atoms('resname DPPC')\n",
    "upper = all_dppc.select_atoms('prop resid <= 1521')\n",
    "lower = all_dppc.select_atoms('prop resid > 1521')\n",
    "water = membrane.select_atoms('resname W')\n",
    "assert len(upper)==len(lower), \"Warning: asymmetric membrane detected\"\n"
   ]
  },
  {
   "cell_type": "code",
   "execution_count": null,
   "metadata": {},
   "outputs": [],
   "source": [
    "def get_pbc(water):\n",
    "    box_dims = water.bbox()\n",
    "    xmin, ymin = box_dims[0,0:2]\n",
    "    xmax, ymax = box_dims[1,0:2]\n",
    "    xsize = xmax-xmin\n",
    "    ysize = ymax-ymin\n",
    "\n",
    "    return xsize, ysize"
   ]
  },
  {
   "cell_type": "code",
   "execution_count": null,
   "metadata": {},
   "outputs": [],
   "source": [
    "def shift_and_wrap(positions, max):\n",
    "    min = np.min(positions)\n",
    "    shifted = positions-min\n",
    "    wrapped = shifted%max\n",
    "    return wrapped\n",
    "\n"
   ]
  },
  {
   "cell_type": "code",
   "execution_count": null,
   "metadata": {},
   "outputs": [],
   "source": [
    "def get_counts(membrane, width):\n",
    "    simlength = membrane.trajectory.n_frames-1\n",
    "    xsize, ysize = get_pbc(water)\n",
    "    nxs = int(xsize/width)\n",
    "    nys = nxs\n",
    "    all_counts = np.zeros((simlength, nxs, nys))\n",
    "    for i in range(simlength):\n",
    "        membrane.trajectory.next()\n",
    "        xsize, ysize = get_pbc(water)\n",
    "        pos = upper.positions\n",
    "        initxs = pos[:,0]\n",
    "        pos[:,0] = shift_and_wrap(initxs, xsize)\n",
    "        pos[:,1] = shift_and_wrap(pos[:,1], ysize)\n",
    "        cts, xs, ys = np.histogram2d(pos[:,0], pos[:,1], [nxs, nys])\n",
    "        all_counts[i] = cts\n",
    "\n",
    "    return all_counts"
   ]
  },
  {
   "cell_type": "code",
   "execution_count": null,
   "metadata": {},
   "outputs": [],
   "source": [
    "def animate_counts(all_counts, fname):\n",
    "    fig, ax = plt.subplots()\n",
    "\n",
    "    ims = []\n",
    "    for counts in all_counts:\n",
    "        im = ax.imshow(counts, animated=True)\n",
    "        ims.append([im])\n",
    "\n",
    "    ani = animation.ArtistAnimation(fig, ims, interval=50, blit=True,\n",
    "                                    repeat_delay=1000)\n",
    "\n",
    "    ani.save(fname)"
   ]
  },
  {
   "cell_type": "code",
   "execution_count": null,
   "metadata": {},
   "outputs": [],
   "source": [
    "for width in np.sqrt(np.arange(20,151,10)):\n",
    "    membrane.trajectory.rewind()\n",
    "    all_counts = get_counts(membrane, width)\n",
    "    area = int(width**2)\n",
    "    np.savetxt(f\"counts_{area}.dat\",all_counts.flatten())\n",
    "    #animate_counts(all_counts, f\"counts_{area}.mp4\")"
   ]
  }
 ],
 "metadata": {
  "kernelspec": {
   "display_name": "jupEnv",
   "language": "python",
   "name": "python3"
  },
  "language_info": {
   "codemirror_mode": {
    "name": "ipython",
    "version": 3
   },
   "file_extension": ".py",
   "mimetype": "text/x-python",
   "name": "python",
   "nbconvert_exporter": "python",
   "pygments_lexer": "ipython3",
   "version": "3.9.16"
  }
 },
 "nbformat": 4,
 "nbformat_minor": 2
}
